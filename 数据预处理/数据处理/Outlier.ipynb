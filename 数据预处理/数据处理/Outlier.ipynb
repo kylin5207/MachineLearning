{
 "cells": [
  {
   "cell_type": "markdown",
   "id": "ec32946c",
   "metadata": {},
   "source": [
    "<h2>异常值处理</h2>"
   ]
  },
  {
   "cell_type": "markdown",
   "id": "707c171a",
   "metadata": {},
   "source": [
    "what are outliers?<br>\n",
    "异常值是指样本中的个别值，其数据值明显偏离其余的观测值<br>\n",
    "异常值的分析：可以使用3sigma原则或者箱行图分析<br>\n",
    "异常值处理：通常选择删除或者修正填补"
   ]
  },
  {
   "cell_type": "markdown",
   "id": "1e6a7cdf",
   "metadata": {},
   "source": [
    "异常值过滤方法通过自定义函数的方式实现，常用的异常值过滤方法有3sigma、箱线图等。<br>"
   ]
  },
  {
   "cell_type": "markdown",
   "id": "824504c6",
   "metadata": {},
   "source": [
    "<h2>1 3sigma原则</h2>"
   ]
  },
  {
   "cell_type": "markdown",
   "id": "b59b6762",
   "metadata": {},
   "source": [
    "3σ原则：如果数据服从正态分布，异常值被定义为一组测定值中与平均值的偏差超过标准差3倍的值 → p(|x - μ| > 3σ) ≤ 0.003"
   ]
  },
  {
   "cell_type": "code",
   "execution_count": 1,
   "id": "3132fd46",
   "metadata": {},
   "outputs": [],
   "source": [
    "import numpy as np\n",
    "import pandas as pd\n",
    "import matplotlib.pyplot as plt\n",
    "from scipy import stats"
   ]
  },
  {
   "cell_type": "code",
   "execution_count": 3,
   "id": "4a66b4c9",
   "metadata": {},
   "outputs": [],
   "source": [
    "data = pd.DataFrame(np.random.randn(1000,2))"
   ]
  },
  {
   "cell_type": "code",
   "execution_count": 4,
   "id": "e4585a30",
   "metadata": {},
   "outputs": [
    {
     "data": {
      "text/html": [
       "<div>\n",
       "<style scoped>\n",
       "    .dataframe tbody tr th:only-of-type {\n",
       "        vertical-align: middle;\n",
       "    }\n",
       "\n",
       "    .dataframe tbody tr th {\n",
       "        vertical-align: top;\n",
       "    }\n",
       "\n",
       "    .dataframe thead th {\n",
       "        text-align: right;\n",
       "    }\n",
       "</style>\n",
       "<table border=\"1\" class=\"dataframe\">\n",
       "  <thead>\n",
       "    <tr style=\"text-align: right;\">\n",
       "      <th></th>\n",
       "      <th>0</th>\n",
       "      <th>1</th>\n",
       "    </tr>\n",
       "  </thead>\n",
       "  <tbody>\n",
       "    <tr>\n",
       "      <th>0</th>\n",
       "      <td>0.481461</td>\n",
       "      <td>-0.449716</td>\n",
       "    </tr>\n",
       "    <tr>\n",
       "      <th>1</th>\n",
       "      <td>1.678820</td>\n",
       "      <td>-1.080899</td>\n",
       "    </tr>\n",
       "    <tr>\n",
       "      <th>2</th>\n",
       "      <td>-1.025467</td>\n",
       "      <td>-0.524137</td>\n",
       "    </tr>\n",
       "    <tr>\n",
       "      <th>3</th>\n",
       "      <td>-0.236352</td>\n",
       "      <td>0.387870</td>\n",
       "    </tr>\n",
       "    <tr>\n",
       "      <th>4</th>\n",
       "      <td>-2.156466</td>\n",
       "      <td>0.326286</td>\n",
       "    </tr>\n",
       "    <tr>\n",
       "      <th>...</th>\n",
       "      <td>...</td>\n",
       "      <td>...</td>\n",
       "    </tr>\n",
       "    <tr>\n",
       "      <th>995</th>\n",
       "      <td>-1.204587</td>\n",
       "      <td>-0.601120</td>\n",
       "    </tr>\n",
       "    <tr>\n",
       "      <th>996</th>\n",
       "      <td>0.384460</td>\n",
       "      <td>1.017983</td>\n",
       "    </tr>\n",
       "    <tr>\n",
       "      <th>997</th>\n",
       "      <td>0.111095</td>\n",
       "      <td>1.162660</td>\n",
       "    </tr>\n",
       "    <tr>\n",
       "      <th>998</th>\n",
       "      <td>-2.424598</td>\n",
       "      <td>-0.405415</td>\n",
       "    </tr>\n",
       "    <tr>\n",
       "      <th>999</th>\n",
       "      <td>-0.782525</td>\n",
       "      <td>-1.926546</td>\n",
       "    </tr>\n",
       "  </tbody>\n",
       "</table>\n",
       "<p>1000 rows × 2 columns</p>\n",
       "</div>"
      ],
      "text/plain": [
       "            0         1\n",
       "0    0.481461 -0.449716\n",
       "1    1.678820 -1.080899\n",
       "2   -1.025467 -0.524137\n",
       "3   -0.236352  0.387870\n",
       "4   -2.156466  0.326286\n",
       "..        ...       ...\n",
       "995 -1.204587 -0.601120\n",
       "996  0.384460  1.017983\n",
       "997  0.111095  1.162660\n",
       "998 -2.424598 -0.405415\n",
       "999 -0.782525 -1.926546\n",
       "\n",
       "[1000 rows x 2 columns]"
      ]
     },
     "execution_count": 4,
     "metadata": {},
     "output_type": "execute_result"
    }
   ],
   "source": [
    "data"
   ]
  },
  {
   "cell_type": "code",
   "execution_count": 5,
   "id": "0ddbcca6",
   "metadata": {},
   "outputs": [],
   "source": [
    "test_data = data.iloc[:,0]"
   ]
  },
  {
   "cell_type": "code",
   "execution_count": 6,
   "id": "47d32d82",
   "metadata": {},
   "outputs": [
    {
     "data": {
      "text/plain": [
       "0      0.481461\n",
       "1      1.678820\n",
       "2     -1.025467\n",
       "3     -0.236352\n",
       "4     -2.156466\n",
       "         ...   \n",
       "995   -1.204587\n",
       "996    0.384460\n",
       "997    0.111095\n",
       "998   -2.424598\n",
       "999   -0.782525\n",
       "Name: 0, Length: 1000, dtype: float64"
      ]
     },
     "execution_count": 6,
     "metadata": {},
     "output_type": "execute_result"
    }
   ],
   "source": [
    "test_data"
   ]
  },
  {
   "cell_type": "code",
   "execution_count": 9,
   "id": "9045c0c7",
   "metadata": {},
   "outputs": [],
   "source": [
    "u = test_data.mean()  # 计算均值\n",
    "std = test_data.std()  # 计算标准差"
   ]
  },
  {
   "cell_type": "code",
   "execution_count": 10,
   "id": "609f2a7c",
   "metadata": {},
   "outputs": [
    {
     "data": {
      "text/plain": [
       "(-0.009087918113278675, 1.0073703689401154)"
      ]
     },
     "execution_count": 10,
     "metadata": {},
     "output_type": "execute_result"
    }
   ],
   "source": [
    "u, std"
   ]
  },
  {
   "cell_type": "markdown",
   "id": "d0bed564",
   "metadata": {},
   "source": [
    "scipy统计模块stats.kstest正态性检验<br>\n",
    "参数：<br>\n",
    "· 待检验的数据<br>\n",
    "· 检验方法，这里我们设置为‘norm’，即正态性检验<br>\n",
    "· (均值，标准差)<br>"
   ]
  },
  {
   "cell_type": "code",
   "execution_count": 12,
   "id": "ae5c6590",
   "metadata": {},
   "outputs": [
    {
     "data": {
      "text/plain": [
       "KstestResult(statistic=0.02605238290866352, pvalue=0.49766078058629004)"
      ]
     },
     "execution_count": 12,
     "metadata": {},
     "output_type": "execute_result"
    }
   ],
   "source": [
    "stats.kstest(test_data, 'norm', (u, std))"
   ]
  },
  {
   "cell_type": "code",
   "execution_count": 14,
   "id": "f96bbf7b",
   "metadata": {},
   "outputs": [
    {
     "data": {
      "text/plain": [
       "<matplotlib.lines.Line2D at 0x7ff3dc044e48>"
      ]
     },
     "execution_count": 14,
     "metadata": {},
     "output_type": "execute_result"
    },
    {
     "data": {
      "image/png": "[encoded data removed]",
      "text/plain": [
       "<Figure size 720x432 with 1 Axes>"
      ]
     },
     "metadata": {
      "needs_background": "light"
     },
     "output_type": "display_data"
    }
   ],
   "source": [
    "# 绘制数据密度曲线\n",
    "fig = plt.figure(figsize = (10,6))\n",
    "test_data.plot(kind = 'kde',grid = True,style = '-k',title = '密度曲线')\n",
    "plt.axvline(3*std, color='r',linestyle=\"--\",alpha=0.8) \n",
    "plt.axvline(-3*std, color='r',linestyle=\"--\",alpha=0.8)"
   ]
  },
  {
   "cell_type": "code",
   "execution_count": 22,
   "id": "669badc3",
   "metadata": {},
   "outputs": [],
   "source": [
    "error = test_data[np.abs(test_data - u) > 3*std]\n",
    "data_c = test_data[np.abs(test_data - u) <= 3*std]"
   ]
  },
  {
   "cell_type": "code",
   "execution_count": 23,
   "id": "58968771",
   "metadata": {},
   "outputs": [
    {
     "data": {
      "text/plain": [
       "4"
      ]
     },
     "execution_count": 23,
     "metadata": {},
     "output_type": "execute_result"
    }
   ],
   "source": [
    "len(error)"
   ]
  },
  {
   "cell_type": "code",
   "execution_count": 25,
   "id": "677fb251",
   "metadata": {},
   "outputs": [
    {
     "data": {
      "image/png": "[encoded data removed]",
      "text/plain": [
       "<Figure size 432x288 with 1 Axes>"
      ]
     },
     "metadata": {},
     "output_type": "display_data"
    }
   ],
   "source": [
    "plt.scatter(data_c.index, data_c, color = 'k', marker='.', alpha = 0.3)\n",
    "plt.scatter(error.index, error, color = 'r', marker='.', alpha = 0.5)\n",
    "plt.xlim([-10,1010])\n",
    "plt.grid()"
   ]
  },
  {
   "cell_type": "markdown",
   "id": "a9b16edf",
   "metadata": {},
   "source": [
    "利用3sigma原则一共选出来了4个异常值"
   ]
  },
  {
   "cell_type": "markdown",
   "id": "8b7e1841",
   "metadata": {},
   "source": [
    "<h2>2 箱形图</h2>"
   ]
  },
  {
   "cell_type": "code",
   "execution_count": 15,
   "id": "57433acc",
   "metadata": {},
   "outputs": [
    {
     "data": {
      "image/png": "[encoded data removed]",
      "text/plain": [
       "<Figure size 432x288 with 1 Axes>"
      ]
     },
     "metadata": {},
     "output_type": "display_data"
    }
   ],
   "source": [
    "plt.style.use('ggplot')\n",
    "plt.boxplot(test_data,  # 选择数据\n",
    "            patch_artist=True,  # 上下四分位是否填充\n",
    "            showmeans=True,  # 以点的形式显示均值\n",
    "            boxprops={'color': 'black', 'facecolor': '#9999ff'},  # 设置箱体属性，填充色和边框色\n",
    "            flierprops={'marker': 'o', 'markerfacecolor': 'red', 'color': 'black'},  # 设置异常值属性，点的形状、填充色和边框色\n",
    "            meanprops={'marker': 'D', 'markerfacecolor': 'indianred'},  # 设置均值点的属性，点的形状、填充色\n",
    "            medianprops={'linestyle': '--', 'color': 'orange'},  # 设置中位数线的属性，线的类型和颜色\n",
    "            )\n",
    "\n",
    "# 去除箱线图的上边框与右边框的刻度标签\n",
    "plt.tick_params(top='off', right='off')\n",
    "\n",
    "# 显示图形\n",
    "plt.show()"
   ]
  },
  {
   "cell_type": "code",
   "execution_count": 16,
   "id": "493f7c12",
   "metadata": {},
   "outputs": [
    {
     "data": {
      "text/plain": [
       "count    1000.000000\n",
       "mean       -0.009088\n",
       "std         1.007370\n",
       "min        -3.714609\n",
       "25%        -0.673424\n",
       "50%        -0.003627\n",
       "75%         0.678208\n",
       "max         3.065444\n",
       "Name: 0, dtype: float64"
      ]
     },
     "execution_count": 16,
     "metadata": {},
     "output_type": "execute_result"
    }
   ],
   "source": [
    "s = test_data.describe()\n",
    "s"
   ]
  },
  {
   "cell_type": "code",
   "execution_count": 17,
   "id": "4ab25f0e",
   "metadata": {},
   "outputs": [
    {
     "data": {
      "text/plain": [
       "pandas.core.series.Series"
      ]
     },
     "execution_count": 17,
     "metadata": {},
     "output_type": "execute_result"
    }
   ],
   "source": [
    "type(s)"
   ]
  },
  {
   "cell_type": "code",
   "execution_count": 18,
   "id": "0e00f5ed",
   "metadata": {},
   "outputs": [
    {
     "name": "stdout",
     "output_type": "stream",
     "text": [
      "第一四分位数： -0.6734236150126514\n",
      "第三四分位数： 0.678208398959447\n",
      "四分位数之差： 1.3516320139720983\n",
      "下限： -2.700871635970799\n",
      "上限： 2.7056564199175943\n"
     ]
    }
   ],
   "source": [
    "q1 = s['25%']\n",
    "q3 = s['75%']\n",
    "iqr = q3 - q1\n",
    "mi = q1 - 1.5*iqr\n",
    "ma = q3 + 1.5*iqr\n",
    "print(\"第一四分位数：\", q1)\n",
    "print(\"第三四分位数：\", q3)\n",
    "print(\"四分位数之差：\", iqr)\n",
    "print(\"下限：\", mi)\n",
    "print(\"上限：\", ma)"
   ]
  },
  {
   "cell_type": "code",
   "execution_count": 20,
   "id": "0c589599",
   "metadata": {},
   "outputs": [
    {
     "name": "stdout",
     "output_type": "stream",
     "text": [
      "异常值共7条\n"
     ]
    },
    {
     "data": {
      "image/png": "[encoded data removed]",
      "text/plain": [
       "<Figure size 432x288 with 1 Axes>"
      ]
     },
     "metadata": {},
     "output_type": "display_data"
    }
   ],
   "source": [
    "error = test_data[(test_data < mi) | (test_data > ma)]\n",
    "data_c = test_data[(test_data >= mi) & (test_data <= ma)]\n",
    "print('异常值共%i条' % len(error))  \n",
    "# 筛选出异常值error、剔除异常值之后的数据data_c\n",
    "\n",
    "plt.scatter(data_c.index,data_c,color = 'k',marker='.',alpha = 0.3)\n",
    "plt.scatter(error.index,error,color = 'r',marker='.',alpha = 0.5)\n",
    "plt.xlim([-10,1010])\n",
    "plt.grid()"
   ]
  },
  {
   "cell_type": "markdown",
   "id": "4f61e82b",
   "metadata": {},
   "source": [
    "利用箱形图一共选出来了7个异常值"
   ]
  }
 ],
 "metadata": {
  "kernelspec": {
   "display_name": "Python 3",
   "language": "python",
   "name": "python3"
  },
  "language_info": {
   "codemirror_mode": {
    "name": "ipython",
    "version": 3
   },
   "file_extension": ".py",
   "mimetype": "text/x-python",
   "name": "python",
   "nbconvert_exporter": "python",
   "pygments_lexer": "ipython3",
   "version": "3.6.8"
  }
 },
 "nbformat": 4,
 "nbformat_minor": 5
}

{
 "cells": [
  {
   "cell_type": "markdown",
   "id": "85dbb029",
   "metadata": {},
   "source": [
    "<h2>异常值处理</h2>"
   ]
  },
  {
   "cell_type": "markdown",
   "id": "0e28d523",
   "metadata": {},
   "source": [
    "<h2>1 数据读取<h2>"
   ]
  },
  {
   "cell_type": "code",
   "execution_count": 1,
   "id": "0c10f098",
   "metadata": {},
   "outputs": [],
   "source": [
    "import pandas as pd\n",
    "import numpy as np\n",
    "import matplotlib.pyplot as plt"
   ]
  },
  {
   "cell_type": "code",
   "execution_count": 2,
   "id": "3b24f41b",
   "metadata": {},
   "outputs": [],
   "source": [
    "X_train_party1 = pd.read_csv(\"data/X_train_party1_post.csv\")\n",
    "X_test_party1 = pd.read_csv(\"data/X_test_party1_post.csv\")\n",
    "Y_train_party1 = pd.read_csv(\"data/Y_train_party1.csv\")\n",
    "Y_test_party1 = pd.read_csv(\"data/Y_test_party1.csv\")"
   ]
  },
  {
   "cell_type": "code",
   "execution_count": 3,
   "id": "8327efbd",
   "metadata": {},
   "outputs": [
    {
     "data": {
      "text/plain": [
       "(640000, 23)"
      ]
     },
     "execution_count": 3,
     "metadata": {},
     "output_type": "execute_result"
    }
   ],
   "source": [
    "X_train_party1.shape"
   ]
  },
  {
   "cell_type": "code",
   "execution_count": 4,
   "id": "751c505e",
   "metadata": {},
   "outputs": [
    {
     "data": {
      "text/plain": [
       "(160000, 23)"
      ]
     },
     "execution_count": 4,
     "metadata": {},
     "output_type": "execute_result"
    }
   ],
   "source": [
    "X_test_party1.shape"
   ]
  },
  {
   "cell_type": "code",
   "execution_count": 5,
   "id": "95190980",
   "metadata": {},
   "outputs": [
    {
     "name": "stdout",
     "output_type": "stream",
     "text": [
      "<class 'pandas.core.frame.DataFrame'>\n",
      "RangeIndex: 640000 entries, 0 to 639999\n",
      "Data columns (total 23 columns):\n",
      " #   Column              Non-Null Count   Dtype  \n",
      "---  ------              --------------   -----  \n",
      " 0   id                  640000 non-null  int64  \n",
      " 1   loanAmnt            640000 non-null  float64\n",
      " 2   term                640000 non-null  int64  \n",
      " 3   interestRate        640000 non-null  float64\n",
      " 4   installment         640000 non-null  float64\n",
      " 5   grade               640000 non-null  int64  \n",
      " 6   subGrade            640000 non-null  int64  \n",
      " 7   employmentTitle     640000 non-null  float64\n",
      " 8   employmentLength    640000 non-null  int64  \n",
      " 9   homeOwnership       640000 non-null  int64  \n",
      " 10  annualIncome        640000 non-null  float64\n",
      " 11  verificationStatus  640000 non-null  int64  \n",
      " 12  purpose             640000 non-null  int64  \n",
      " 13  postCode            640000 non-null  float64\n",
      " 14  regionCode          640000 non-null  int64  \n",
      " 15  dti                 640000 non-null  float64\n",
      " 16  delinquency_2years  640000 non-null  float64\n",
      " 17  ficoRangeLow        640000 non-null  float64\n",
      " 18  ficoRangeHigh       640000 non-null  float64\n",
      " 19  openAcc             640000 non-null  float64\n",
      " 20  pubRec              640000 non-null  float64\n",
      " 21  pubRecBankruptcies  640000 non-null  float64\n",
      " 22  issueDays           640000 non-null  int64  \n",
      "dtypes: float64(13), int64(10)\n",
      "memory usage: 112.3 MB\n"
     ]
    }
   ],
   "source": [
    "X_train_party1.info()"
   ]
  },
  {
   "cell_type": "code",
   "execution_count": 6,
   "id": "cbf141cf",
   "metadata": {},
   "outputs": [
    {
     "name": "stdout",
     "output_type": "stream",
     "text": [
      "<class 'pandas.core.frame.DataFrame'>\n",
      "RangeIndex: 160000 entries, 0 to 159999\n",
      "Data columns (total 23 columns):\n",
      " #   Column              Non-Null Count   Dtype  \n",
      "---  ------              --------------   -----  \n",
      " 0   id                  160000 non-null  int64  \n",
      " 1   loanAmnt            160000 non-null  float64\n",
      " 2   term                160000 non-null  int64  \n",
      " 3   interestRate        160000 non-null  float64\n",
      " 4   installment         160000 non-null  float64\n",
      " 5   grade               160000 non-null  int64  \n",
      " 6   subGrade            160000 non-null  int64  \n",
      " 7   employmentTitle     160000 non-null  float64\n",
      " 8   employmentLength    160000 non-null  int64  \n",
      " 9   homeOwnership       160000 non-null  int64  \n",
      " 10  annualIncome        160000 non-null  float64\n",
      " 11  verificationStatus  160000 non-null  int64  \n",
      " 12  purpose             160000 non-null  int64  \n",
      " 13  postCode            160000 non-null  float64\n",
      " 14  regionCode          160000 non-null  int64  \n",
      " 15  dti                 160000 non-null  float64\n",
      " 16  delinquency_2years  160000 non-null  float64\n",
      " 17  ficoRangeLow        160000 non-null  float64\n",
      " 18  ficoRangeHigh       160000 non-null  float64\n",
      " 19  openAcc             160000 non-null  float64\n",
      " 20  pubRec              160000 non-null  float64\n",
      " 21  pubRecBankruptcies  160000 non-null  float64\n",
      " 22  issueDays           160000 non-null  int64  \n",
      "dtypes: float64(13), int64(10)\n",
      "memory usage: 28.1 MB\n"
     ]
    }
   ],
   "source": [
    "X_test_party1.info()"
   ]
  },
  {
   "cell_type": "markdown",
   "id": "ba52959d",
   "metadata": {},
   "source": [
    "<h2>2. 查看数据分布</h2>"
   ]
  },
  {
   "cell_type": "markdown",
   "id": "d60e0a44",
   "metadata": {},
   "source": [
    "能够进行异常值处理的特征有：loanAmnt、interestRate、installment、ficoRangeLow、ficoRangeHigh"
   ]
  },
  {
   "cell_type": "markdown",
   "id": "60d8f534",
   "metadata": {},
   "source": [
    "<h3>2.1 训练集3sigma异常值处理</h3>"
   ]
  },
  {
   "cell_type": "code",
   "execution_count": 7,
   "id": "77a0f2fc",
   "metadata": {},
   "outputs": [
    {
     "data": {
      "text/plain": [
       "60000.0     24579\n",
       "50000.0     21576\n",
       "65000.0     18625\n",
       "70000.0     17518\n",
       "40000.0     16711\n",
       "            ...  \n",
       "77960.0         1\n",
       "77968.0         1\n",
       "77970.0         1\n",
       "77972.0         1\n",
       "159800.0        1\n",
       "Name: annualIncome, Length: 38425, dtype: int64"
      ]
     },
     "execution_count": 7,
     "metadata": {},
     "output_type": "execute_result"
    }
   ],
   "source": [
    "X_train_party1['annualIncome'].value_counts()"
   ]
  },
  {
   "cell_type": "markdown",
   "id": "5d51739b",
   "metadata": {},
   "source": [
    "annualIncome中有一个异常值emm，个人感觉不是异常值"
   ]
  },
  {
   "cell_type": "code",
   "execution_count": 8,
   "id": "97548d92",
   "metadata": {},
   "outputs": [],
   "source": [
    "from scipy import stats"
   ]
  },
  {
   "cell_type": "code",
   "execution_count": 1,
   "id": "a1c2d8e2",
   "metadata": {},
   "outputs": [],
   "source": [
    "#异常值检验\n",
    "def checkOutliers(data, col):\n",
    "    u = data.mean()  # 计算均值\n",
    "    std = data.std()  # 计算标准差\n",
    "    stats.kstest(data, 'norm', (u, std))\n",
    "    # 绘制数据密度曲线\n",
    "    fig = plt.figure(figsize = (10,6))\n",
    "    plot_name = f\"{col}\"\n",
    "    data.plot(kind = 'kde',grid = True,style = '-k',title = '密度曲线')\n",
    "    plt.axvline(u+3*std, color='r',linestyle=\"--\",alpha=0.8) \n",
    "    plt.axvline(u-3*std, color='r',linestyle=\"--\",alpha=0.8)\n",
    "    plt.title(plot_name)\n",
    "    plt.show()\n",
    "    \n",
    "    error_index = data[np.abs(data - u) > 3*std].index\n",
    "    return error_index"
   ]
  },
  {
   "cell_type": "code",
   "execution_count": 10,
   "id": "dc972264",
   "metadata": {},
   "outputs": [
    {
     "data": {
      "text/plain": [
       "Index(['id', 'loanAmnt', 'term', 'interestRate', 'installment', 'grade',\n",
       "       'subGrade', 'employmentTitle', 'employmentLength', 'homeOwnership',\n",
       "       'annualIncome', 'verificationStatus', 'purpose', 'postCode',\n",
       "       'regionCode', 'dti', 'delinquency_2years', 'ficoRangeLow',\n",
       "       'ficoRangeHigh', 'openAcc', 'pubRec', 'pubRecBankruptcies',\n",
       "       'issueDays'],\n",
       "      dtype='object')"
      ]
     },
     "execution_count": 10,
     "metadata": {},
     "output_type": "execute_result"
    }
   ],
   "source": [
    "X_train_party1.columns"
   ]
  },
  {
   "cell_type": "code",
   "execution_count": 11,
   "id": "9f257215",
   "metadata": {},
   "outputs": [],
   "source": [
    "train1_col = ['loanAmnt', 'interestRate', 'installment', 'employmentTitle',\n",
    "       'dti', 'ficoRangeLow', 'ficoRangeHigh']"
   ]
  },
  {
   "cell_type": "code",
   "execution_count": 12,
   "id": "4d96dcad",
   "metadata": {},
   "outputs": [],
   "source": [
    "def checkColumn(data, col_list):\n",
    "    outlier_list = []\n",
    "    error_index_list = []\n",
    "    for col in col_list:\n",
    "        error_index = checkOutliers(data[col], col)\n",
    "        outlier_list.append(len(error_index))\n",
    "        error_index_list.extend(error_index)\n",
    "    return outlier_list, set(error_index_list)"
   ]
  },
  {
   "cell_type": "code",
   "execution_count": 13,
   "id": "1080582d",
   "metadata": {
    "scrolled": true
   },
   "outputs": [
    {
     "data": {
      "image/png": "[encoded data removed]",
      "text/plain": [
       "<Figure size 720x432 with 1 Axes>"
      ]
     },
     "metadata": {
      "needs_background": "light"
     },
     "output_type": "display_data"
    },
    {
     "data": {
      "image/png": "[encoded data removed]",
      "text/plain": [
       "<Figure size 720x432 with 1 Axes>"
      ]
     },
     "metadata": {
      "needs_background": "light"
     },
     "output_type": "display_data"
    },
    {
     "data": {
      "image/png": "[encoded data removed]",
      "text/plain": [
       "<Figure size 720x432 with 1 Axes>"
      ]
     },
     "metadata": {
      "needs_background": "light"
     },
     "output_type": "display_data"
    },
    {
     "data": {
      "image/png": "[encoded data removed]",
      "text/plain": [
       "<Figure size 720x432 with 1 Axes>"
      ]
     },
     "metadata": {
      "needs_background": "light"
     },
     "output_type": "display_data"
    },
    {
     "data": {
      "image/png": "[encoded data removed]",
      "text/plain": [
       "<Figure size 720x432 with 1 Axes>"
      ]
     },
     "metadata": {
      "needs_background": "light"
     },
     "output_type": "display_data"
    },
    {
     "data": {
      "image/png": "[encoded data removed]",
      "text/plain": [
       "<Figure size 720x432 with 1 Axes>"
      ]
     },
     "metadata": {
      "needs_background": "light"
     },
     "output_type": "display_data"
    },
    {
     "data": {
      "image/png": "[encoded data removed]",
      "text/plain": [
       "<Figure size 720x432 with 1 Axes>"
      ]
     },
     "metadata": {
      "needs_background": "light"
     },
     "output_type": "display_data"
    }
   ],
   "source": [
    "outlier_list, error_index_list = checkColumn(X_train_party1, train1_col)"
   ]
  },
  {
   "cell_type": "code",
   "execution_count": 14,
   "id": "10aa0cd8",
   "metadata": {
    "scrolled": true
   },
   "outputs": [
    {
     "data": {
      "text/plain": [
       "[0, 4563, 6325, 0, 687, 9384, 9384]"
      ]
     },
     "execution_count": 14,
     "metadata": {},
     "output_type": "execute_result"
    }
   ],
   "source": [
    "outlier_list"
   ]
  },
  {
   "cell_type": "code",
   "execution_count": 15,
   "id": "91626457",
   "metadata": {},
   "outputs": [
    {
     "data": {
      "text/plain": [
       "{491524,\n",
       " 5,\n",
       " 393225,\n",
       " 131081,\n",
       " 11,\n",
       " 163851,\n",
       " 65550,\n",
       " 458767,\n",
       " 426000,\n",
       " 229392,\n",
       " 262162,\n",
       " 360467,\n",
       " 491540,\n",
       " 131094,\n",
       " 426006,\n",
       " 557079,\n",
       " 229401,\n",
       " 196633,\n",
       " 393243,\n",
       " 294940,\n",
       " 491548,\n",
       " 229406,\n",
       " 163876,\n",
       " 393253,\n",
       " 557094,\n",
       " 360487,\n",
       " 163880,\n",
       " 622636,\n",
       " 327728,\n",
       " 491572,\n",
       " 294966,\n",
       " 426038,\n",
       " 589880,\n",
       " 589881,\n",
       " 524346,\n",
       " 622650,\n",
       " 327738,\n",
       " 524349,\n",
       " 557116,\n",
       " 524355,\n",
       " 68,\n",
       " 622661,\n",
       " 32836,\n",
       " 262214,\n",
       " 262216,\n",
       " 131145,\n",
       " 426054,\n",
       " 491595,\n",
       " 557128,\n",
       " 462431,\n",
       " 163919,\n",
       " 229460,\n",
       " 85,\n",
       " 229461,\n",
       " 458842,\n",
       " 32859,\n",
       " 524380,\n",
       " 327774,\n",
       " 327775,\n",
       " 32864,\n",
       " 426080,\n",
       " 524386,\n",
       " 557154,\n",
       " 262244,\n",
       " 393318,\n",
       " 295017,\n",
       " 622699,\n",
       " 98414,\n",
       " 458867,\n",
       " 524406,\n",
       " 262263,\n",
       " 557177,\n",
       " 65657,\n",
       " 426109,\n",
       " 229502,\n",
       " 426111,\n",
       " 622718,\n",
       " 131201,\n",
       " 65664,\n",
       " 229506,\n",
       " 327809,\n",
       " 262277,\n",
       " 458879,\n",
       " 360584,\n",
       " 163977,\n",
       " 589963,\n",
       " 65676,\n",
       " 98443,\n",
       " 229516,\n",
       " 65679,\n",
       " 458895,\n",
       " 262289,\n",
       " 295058,\n",
       " 360595,\n",
       " 524438,\n",
       " 65690,\n",
       " 65698,\n",
       " 98468,\n",
       " 491685,\n",
       " 166,\n",
       " 229543,\n",
       " 327847,\n",
       " 360615,\n",
       " 295082,\n",
       " 360624,\n",
       " 65715,\n",
       " 65716,\n",
       " 393399,\n",
       " 131257,\n",
       " 426169,\n",
       " 524476,\n",
       " 393406,\n",
       " 191,\n",
       " 32959,\n",
       " 32964,\n",
       " 98502,\n",
       " 262343,\n",
       " 32968,\n",
       " 295112,\n",
       " 327882,\n",
       " 164044,\n",
       " 131278,\n",
       " 327887,\n",
       " 458958,\n",
       " 426197,\n",
       " 131289,\n",
       " 360667,\n",
       " 360668,\n",
       " 98526,\n",
       " 229598,\n",
       " 32992,\n",
       " 65762,\n",
       " 524515,\n",
       " 327908,\n",
       " 393442,\n",
       " 458983,\n",
       " 327913,\n",
       " 590058,\n",
       " 622826,\n",
       " 491756,\n",
       " 98540,\n",
       " 426223,\n",
       " 131312,\n",
       " 524528,\n",
       " 229615,\n",
       " 131315,\n",
       " 65780,\n",
       " 229621,\n",
       " 246,\n",
       " 327928,\n",
       " 557305,\n",
       " 426235,\n",
       " 590076,\n",
       " 524541,\n",
       " 393470,\n",
       " 262401,\n",
       " 327937,\n",
       " 491777,\n",
       " 590084,\n",
       " 261,\n",
       " 266,\n",
       " 557322,\n",
       " 164108,\n",
       " 229645,\n",
       " 276,\n",
       " 33045,\n",
       " 278,\n",
       " 196887,\n",
       " 360728,\n",
       " 196889,\n",
       " 65816,\n",
       " 131351,\n",
       " 295190,\n",
       " 426260,\n",
       " 590111,\n",
       " 426272,\n",
       " 196897,\n",
       " 393504,\n",
       " 491815,\n",
       " 229672,\n",
       " 393514,\n",
       " 557355,\n",
       " 524591,\n",
       " 491824,\n",
       " 229681,\n",
       " 393519,\n",
       " 557363,\n",
       " 557364,\n",
       " 33074,\n",
       " 164148,\n",
       " 459063,\n",
       " 475503,\n",
       " 622905,\n",
       " 557369,\n",
       " 262459,\n",
       " 360764,\n",
       " 524603,\n",
       " 196926,\n",
       " 459070,\n",
       " 557375,\n",
       " 393537,\n",
       " 196930,\n",
       " 426306,\n",
       " 164164,\n",
       " 262468,\n",
       " 459075,\n",
       " 557383,\n",
       " 524617,\n",
       " 393547,\n",
       " 622926,\n",
       " 229721,\n",
       " 524633,\n",
       " 557401,\n",
       " 262492,\n",
       " 524637,\n",
       " 622943,\n",
       " 360800,\n",
       " 262497,\n",
       " 622945,\n",
       " 426338,\n",
       " 491875,\n",
       " 295274,\n",
       " 566694,\n",
       " 164206,\n",
       " 295279,\n",
       " 622962,\n",
       " 370,\n",
       " 372,\n",
       " 262517,\n",
       " 33141,\n",
       " 491894,\n",
       " 622963,\n",
       " 360826,\n",
       " 33147,\n",
       " 459132,\n",
       " 98689,\n",
       " 33156,\n",
       " 131462,\n",
       " 590216,\n",
       " 395,\n",
       " 131471,\n",
       " 426383,\n",
       " 426384,\n",
       " 65940,\n",
       " 328087,\n",
       " 229784,\n",
       " 393624,\n",
       " 524697,\n",
       " 524698,\n",
       " 557469,\n",
       " 360862,\n",
       " 33183,\n",
       " 229794,\n",
       " 426404,\n",
       " 459172,\n",
       " 426406,\n",
       " 262566,\n",
       " 33192,\n",
       " 469013,\n",
       " 98731,\n",
       " 229804,\n",
       " 262573,\n",
       " 491949,\n",
       " 262575,\n",
       " 524717,\n",
       " 426418,\n",
       " 491958,\n",
       " 131511,\n",
       " 441,\n",
       " 295354,\n",
       " 98748,\n",
       " 229822,\n",
       " 33218,\n",
       " 328131,\n",
       " 393668,\n",
       " 164293,\n",
       " 393670,\n",
       " 295366,\n",
       " 623046,\n",
       " 590286,\n",
       " 98769,\n",
       " 491986,\n",
       " 491987,\n",
       " 197073,\n",
       " 471,\n",
       " 590295,\n",
       " 623064,\n",
       " 295389,\n",
       " 33245,\n",
       " 491999,\n",
       " 426463,\n",
       " 131556,\n",
       " 393709,\n",
       " 262637,\n",
       " 164335,\n",
       " 623087,\n",
       " 229873,\n",
       " 66034,\n",
       " 426482,\n",
       " 623085,\n",
       " 506,\n",
       " 66042,\n",
       " 229884,\n",
       " 33278,\n",
       " 164355,\n",
       " 66055,\n",
       " 557575,\n",
       " 229897,\n",
       " 623111,\n",
       " 98828,\n",
       " 131596,\n",
       " 426513,\n",
       " 530,\n",
       " 328210,\n",
       " 623122,\n",
       " 164375,\n",
       " 537,\n",
       " 164377,\n",
       " 295453,\n",
       " 66078,\n",
       " 229920,\n",
       " 328225,\n",
       " 98848,\n",
       " 229923,\n",
       " 131620,\n",
       " 492068,\n",
       " 229926,\n",
       " 557606,\n",
       " 492070,\n",
       " 131625,\n",
       " 554,\n",
       " 492075,\n",
       " 459308,\n",
       " 197165,\n",
       " 426539,\n",
       " 623151,\n",
       " 98864,\n",
       " 492081,\n",
       " 262703,\n",
       " 262705,\n",
       " 492084,\n",
       " 262711,\n",
       " 328250,\n",
       " 229947,\n",
       " 328254,\n",
       " 295487,\n",
       " 164416,\n",
       " 33348,\n",
       " 623173,\n",
       " 197190,\n",
       " 361028,\n",
       " 229959,\n",
       " 459333,\n",
       " 590410,\n",
       " 164427,\n",
       " 393803,\n",
       " 295499,\n",
       " 623174,\n",
       " 295508,\n",
       " 524885,\n",
       " 459351,\n",
       " 197208,\n",
       " 66137,\n",
       " 393816,\n",
       " 393819,\n",
       " 361050,\n",
       " 623200,\n",
       " 66145,\n",
       " 393825,\n",
       " 361058,\n",
       " 131686,\n",
       " 229993,\n",
       " 393834,\n",
       " 393837,\n",
       " 524913,\n",
       " 33393,\n",
       " 426610,\n",
       " 557685,\n",
       " 623223,\n",
       " 492152,\n",
       " 492154,\n",
       " 164475,\n",
       " 164476,\n",
       " 66173,\n",
       " 131710,\n",
       " 230012,\n",
       " 361086,\n",
       " 197243,\n",
       " 197248,\n",
       " 623235,\n",
       " 230019,\n",
       " 361089,\n",
       " 393863,\n",
       " 197256,\n",
       " 361097,\n",
       " 98957,\n",
       " 557709,\n",
       " 590481,\n",
       " 393874,\n",
       " 459412,\n",
       " 164501,\n",
       " 393880,\n",
       " 98969,\n",
       " 393882,\n",
       " 230040,\n",
       " 670,\n",
       " 426657,\n",
       " 393890,\n",
       " 492197,\n",
       " 459430,\n",
       " 459431,\n",
       " 131754,\n",
       " 459434,\n",
       " 98988,\n",
       " 426671,\n",
       " 623284,\n",
       " 295605,\n",
       " 361142,\n",
       " 99001,\n",
       " 697,\n",
       " 197307,\n",
       " 328381,\n",
       " 131778,\n",
       " 66243,\n",
       " 131779,\n",
       " 295621,\n",
       " 623300,\n",
       " 66244,\n",
       " 361156,\n",
       " 164555,\n",
       " 557772,\n",
       " 459478,\n",
       " 727,\n",
       " 262874,\n",
       " 295643,\n",
       " 557787,\n",
       " 733,\n",
       " 557790,\n",
       " 459482,\n",
       " 459484,\n",
       " 131810,\n",
       " 361188,\n",
       " 99045,\n",
       " 744,\n",
       " 262892,\n",
       " 525038,\n",
       " 557806,\n",
       " 426737,\n",
       " 33523,\n",
       " 328436,\n",
       " 557816,\n",
       " 66297,\n",
       " 393980,\n",
       " 328444,\n",
       " 328449,\n",
       " 99078,\n",
       " 361222,\n",
       " 492295,\n",
       " 99080,\n",
       " 492296,\n",
       " 590604,\n",
       " 131856,\n",
       " 790,\n",
       " 131863,\n",
       " 792,\n",
       " 131865,\n",
       " 426778,\n",
       " 262935,\n",
       " 394008,\n",
       " 295709,\n",
       " 33566,\n",
       " 99102,\n",
       " 328479,\n",
       " 66337,\n",
       " 295714,\n",
       " 262947,\n",
       " 33571,\n",
       " 197412,\n",
       " 459549,\n",
       " 426791,\n",
       " 394026,\n",
       " 197419,\n",
       " 361260,\n",
       " 99117,\n",
       " 131885,\n",
       " 262958,\n",
       " 262961,\n",
       " 328497,\n",
       " 426802,\n",
       " 426804,\n",
       " 525108,\n",
       " 66358,\n",
       " 131893,\n",
       " 590648,\n",
       " 197433,\n",
       " 492344,\n",
       " 525106,\n",
       " 590653,\n",
       " 164671,\n",
       " 131904,\n",
       " 33602,\n",
       " 295749,\n",
       " 66374,\n",
       " 492358,\n",
       " 623432,\n",
       " 426827,\n",
       " 557900,\n",
       " 33613,\n",
       " 557903,\n",
       " 623440,\n",
       " 394065,\n",
       " 525137,\n",
       " 131921,\n",
       " 295764,\n",
       " 850,\n",
       " 426838,\n",
       " 855,\n",
       " 197456,\n",
       " 557913,\n",
       " 426842,\n",
       " 295770,\n",
       " 295772,\n",
       " 861,\n",
       " 197468,\n",
       " 394079,\n",
       " 426848,\n",
       " 197475,\n",
       " 459619,\n",
       " 230244,\n",
       " 66406,\n",
       " 328548,\n",
       " 131946,\n",
       " 230251,\n",
       " 99179,\n",
       " 361324,\n",
       " 328562,\n",
       " 230260,\n",
       " 557941,\n",
       " 328566,\n",
       " 886,\n",
       " 459640,\n",
       " 99193,\n",
       " 525176,\n",
       " 426875,\n",
       " 295800,\n",
       " 230269,\n",
       " 66430,\n",
       " 197503,\n",
       " 131965,\n",
       " 893,\n",
       " 197506,\n",
       " 426882,\n",
       " 263044,\n",
       " 295804,\n",
       " 625416,\n",
       " 904,\n",
       " 492424,\n",
       " 525194,\n",
       " 164747,\n",
       " 623502,\n",
       " 914,\n",
       " 295827,\n",
       " 590744,\n",
       " 66457,\n",
       " 426907,\n",
       " 33691,\n",
       " 590749,\n",
       " 66460,\n",
       " 99230,\n",
       " 525212,\n",
       " 295841,\n",
       " 930,\n",
       " 295845,\n",
       " 132006,\n",
       " 197544,\n",
       " 164777,\n",
       " 295848,\n",
       " 295852,\n",
       " 940,\n",
       " 426928,\n",
       " 558002,\n",
       " 164787,\n",
       " 99255,\n",
       " 459703,\n",
       " 132025,\n",
       " 230329,\n",
       " 99256,\n",
       " 230328,\n",
       " 361406,\n",
       " 361407,\n",
       " 66496,\n",
       " 459712,\n",
       " 33730,\n",
       " 459711,\n",
       " 295876,\n",
       " 99269,\n",
       " 99270,\n",
       " 558023,\n",
       " 230342,\n",
       " 263113,\n",
       " 459721,\n",
       " 295879,\n",
       " 590796,\n",
       " 263117,\n",
       " 295886,\n",
       " 590797,\n",
       " 164817,\n",
       " 33746,\n",
       " 361427,\n",
       " 263125,\n",
       " 426965,\n",
       " 525274,\n",
       " 99297,\n",
       " 525282,\n",
       " 328673,\n",
       " 328676,\n",
       " 230375,\n",
       " 230376,\n",
       " 351895,\n",
       " 295917,\n",
       " 230382,\n",
       " 33775,\n",
       " 459760,\n",
       " 263155,\n",
       " 1013,\n",
       " 558070,\n",
       " 328695,\n",
       " 164856,\n",
       " 263162,\n",
       " 295930,\n",
       " 590844,\n",
       " 164860,\n",
       " 164862,\n",
       " 33790,\n",
       " 525313,\n",
       " 263170,\n",
       " 132098,\n",
       " 230405,\n",
       " 164870,\n",
       " 328711,\n",
       " 1036,\n",
       " 66575,\n",
       " 361488,\n",
       " 558097,\n",
       " 295952,\n",
       " 394257,\n",
       " 623637,\n",
       " 99352,\n",
       " 590874,\n",
       " 197662,\n",
       " 263198,\n",
       " 623648,\n",
       " 361505,\n",
       " 623649,\n",
       " 558115,\n",
       " 197668,\n",
       " 132133,\n",
       " 427045,\n",
       " 1069,\n",
       " 197677,\n",
       " 295986,\n",
       " 197685,\n",
       " 361525,\n",
       " 66618,\n",
       " 99390,\n",
       " 623681,\n",
       " 99394,\n",
       " 328770,\n",
       " 558147,\n",
       " 328773,\n",
       " 263240,\n",
       " 394314,\n",
       " 459850,\n",
       " 33869,\n",
       " 427085,\n",
       " 66639,\n",
       " 164941,\n",
       " 1105,\n",
       " 623694,\n",
       " 230483,\n",
       " 197717,\n",
       " 590935,\n",
       " 623709,\n",
       " 66654,\n",
       " 1119,\n",
       " 164962,\n",
       " 558178,\n",
       " 1122,\n",
       " 33892,\n",
       " 296038,\n",
       " 1129,\n",
       " 328809,\n",
       " 33897,\n",
       " 459883,\n",
       " 459884,\n",
       " 99444,\n",
       " 623733,\n",
       " 164985,\n",
       " 361594,\n",
       " 263289,\n",
       " 492668,\n",
       " 394365,\n",
       " 525435,\n",
       " 394367,\n",
       " 66688,\n",
       " 33921,\n",
       " 296066,\n",
       " 1152,\n",
       " 1154,\n",
       " 164997,\n",
       " 99458,\n",
       " 99461,\n",
       " 164993,\n",
       " 492681,\n",
       " 590986,\n",
       " 33930,\n",
       " 296076,\n",
       " 328846,\n",
       " 263311,\n",
       " 623761,\n",
       " 263320,\n",
       " 394392,\n",
       " 459930,\n",
       " 427163,\n",
       " 263321,\n",
       " 328858,\n",
       " 492697,\n",
       " 230559,\n",
       " 33952,\n",
       " 492702,\n",
       " 492704,\n",
       " 361640,\n",
       " 230568,\n",
       " 459949,\n",
       " 197806,\n",
       " 427186,\n",
       " 1204,\n",
       " 558261,\n",
       " 591030,\n",
       " 99511,\n",
       " 33976,\n",
       " 328890,\n",
       " 394427,\n",
       " 591039,\n",
       " 394431,\n",
       " 361665,\n",
       " 394432,\n",
       " 197828,\n",
       " 230599,\n",
       " 394440,\n",
       " 1224,\n",
       " 197834,\n",
       " 492746,\n",
       " 558283,\n",
       " 558285,\n",
       " 230611,\n",
       " 623831,\n",
       " 492759,\n",
       " 492762,\n",
       " 1243,\n",
       " 558298,\n",
       " 197854,\n",
       " 230625,\n",
       " 623842,\n",
       " 99555,\n",
       " 263397,\n",
       " 328933,\n",
       " 427239,\n",
       " 394470,\n",
       " 427238,\n",
       " 623849,\n",
       " 263403,\n",
       " 34028,\n",
       " 197869,\n",
       " 460013,\n",
       " 1259,\n",
       " 296175,\n",
       " 427249,\n",
       " 558321,\n",
       " 460018,\n",
       " 263412,\n",
       " 1260,\n",
       " 394478,\n",
       " 558331,\n",
       " 132347,\n",
       " 361727,\n",
       " 427264,\n",
       " 394495,\n",
       " 361732,\n",
       " 165127,\n",
       " 296201,\n",
       " 197898,\n",
       " 558347,\n",
       " 132363,\n",
       " 230669,\n",
       " 165131,\n",
       " 296205,\n",
       " 591117,\n",
       " 623885,\n",
       " 427282,\n",
       " 460050,\n",
       " 66836,\n",
       " 132372,\n",
       " 99610,\n",
       " 99611,\n",
       " 1308,\n",
       " 230685,\n",
       " 525596,\n",
       " 34078,\n",
       " 197919,\n",
       " 230688,\n",
       " 394522,\n",
       " 394531,\n",
       " 460063,\n",
       " 525604,\n",
       " 361766,\n",
       " 423600,\n",
       " 99626,\n",
       " 296234,\n",
       " 132397,\n",
       " 394542,\n",
       " 66864,\n",
       " 137035,\n",
       " 34100,\n",
       " 99638,\n",
       " 99644,\n",
       " 591166,\n",
       " 34115,\n",
       " 329028,\n",
       " 492870,\n",
       " 230727,\n",
       " 329034,\n",
       " 99660,\n",
       " 197966,\n",
       " 99663,\n",
       " 132432,\n",
       " 34129,\n",
       " 460110,\n",
       " 558418,\n",
       " 296278,\n",
       " 361814,\n",
       " 591193,\n",
       " 1370,\n",
       " 197977,\n",
       " 591195,\n",
       " 591200,\n",
       " 361827,\n",
       " 230761,\n",
       " 361835,\n",
       " 99692,\n",
       " 591212,\n",
       " 525680,\n",
       " 558449,\n",
       " 165235,\n",
       " 492918,\n",
       " 165247,\n",
       " 132480,\n",
       " 198018,\n",
       " 460163,\n",
       " 329092,\n",
       " 624003,\n",
       " 525702,\n",
       " 198023,\n",
       " 165256,\n",
       " 132487,\n",
       " 165255,\n",
       " 329099,\n",
       " 296332,\n",
       " 198029,\n",
       " 66958,\n",
       " 492943,\n",
       " 460168,\n",
       " 525704,\n",
       " 230805,\n",
       " 394651,\n",
       " 230812,\n",
       " 361885,\n",
       " 198044,\n",
       " 1438,\n",
       " 329122,\n",
       " 230819,\n",
       " 165284,\n",
       " 1447,\n",
       " 99755,\n",
       " 1452,\n",
       " 394673,\n",
       " 66994,\n",
       " 591283,\n",
       " 460212,\n",
       " 99768,\n",
       " 460217,\n",
       " 1467,\n",
       " 99771,\n",
       " 591291,\n",
       " 394687,\n",
       " 263621,\n",
       " 99783,\n",
       " 394696,\n",
       " 427465,\n",
       " 198089,\n",
       " 591307,\n",
       " 624074,\n",
       " 329165,\n",
       " 624080,\n",
       " 165332,\n",
       " 198101,\n",
       " 329173,\n",
       " 198103,\n",
       " 263637,\n",
       " 263641,\n",
       " 132570,\n",
       " 263642,\n",
       " 394716,\n",
       " 558557,\n",
       " 329181,\n",
       " 230879,\n",
       " 600525,\n",
       " 263650,\n",
       " 427495,\n",
       " 34282,\n",
       " 230890,\n",
       " 361964,\n",
       " 558573,\n",
       " 558574,\n",
       " 99823,\n",
       " 296429,\n",
       " 263665,\n",
       " 361970,\n",
       " 132597,\n",
       " 165365,\n",
       " 394742,\n",
       " 329208,\n",
       " 525821,\n",
       " 591358,\n",
       " 198143,\n",
       " 525826,\n",
       " 99845,\n",
       " 624133,\n",
       " 198152,\n",
       " 198155,\n",
       " 263691,\n",
       " 427532,\n",
       " 329230,\n",
       " 460307,\n",
       " 624149,\n",
       " 525846,\n",
       " 34328,\n",
       " 493083,\n",
       " 493085,\n",
       " 34334,\n",
       " 329247,\n",
       " 394784,\n",
       " 67105,\n",
       " 362017,\n",
       " 132643,\n",
       " 34339,\n",
       " 165411,\n",
       " 296486,\n",
       " 394788,\n",
       " 525857,\n",
       " 1578,\n",
       " 329258,\n",
       " 493100,\n",
       " 34351,\n",
       " 165423,\n",
       " 329265,\n",
       " 67122,\n",
       " 525875,\n",
       " 165427,\n",
       " 165428,\n",
       " 394805,\n",
       " 230967,\n",
       " 329272,\n",
       " 460341,\n",
       " 165435,\n",
       " 263741,\n",
       " 198206,\n",
       " 362046,\n",
       " 591421,\n",
       " 34367,\n",
       " 34370,\n",
       " 493123,\n",
       " 230980,\n",
       " 198213,\n",
       " 427590,\n",
       " 263751,\n",
       " 296519,\n",
       " 362057,\n",
       " 1608,\n",
       " 263755,\n",
       " 165454,\n",
       " 34383,\n",
       " 132695,\n",
       " 525914,\n",
       " 558685,\n",
       " 460385,\n",
       " 165474,\n",
       " 132709,\n",
       " 231014,\n",
       " 67175,\n",
       " ...}"
      ]
     },
     "execution_count": 15,
     "metadata": {},
     "output_type": "execute_result"
    }
   ],
   "source": [
    "error_index_list"
   ]
  },
  {
   "cell_type": "code",
   "execution_count": 16,
   "id": "08532929",
   "metadata": {
    "scrolled": true
   },
   "outputs": [
    {
     "data": {
      "text/plain": [
       "20617"
      ]
     },
     "execution_count": 16,
     "metadata": {},
     "output_type": "execute_result"
    }
   ],
   "source": [
    "len(error_index_list)"
   ]
  },
  {
   "cell_type": "code",
   "execution_count": 17,
   "id": "9c6b56a8",
   "metadata": {},
   "outputs": [],
   "source": [
    "X_train_party1 = X_train_party1.drop(error_index_list)"
   ]
  },
  {
   "cell_type": "code",
   "execution_count": 18,
   "id": "7be997c3",
   "metadata": {},
   "outputs": [
    {
     "data": {
      "text/html": [
       "<div>\n",
       "<style scoped>\n",
       "    .dataframe tbody tr th:only-of-type {\n",
       "        vertical-align: middle;\n",
       "    }\n",
       "\n",
       "    .dataframe tbody tr th {\n",
       "        vertical-align: top;\n",
       "    }\n",
       "\n",
       "    .dataframe thead th {\n",
       "        text-align: right;\n",
       "    }\n",
       "</style>\n",
       "<table border=\"1\" class=\"dataframe\">\n",
       "  <thead>\n",
       "    <tr style=\"text-align: right;\">\n",
       "      <th></th>\n",
       "      <th>id</th>\n",
       "      <th>loanAmnt</th>\n",
       "      <th>term</th>\n",
       "      <th>interestRate</th>\n",
       "      <th>installment</th>\n",
       "      <th>grade</th>\n",
       "      <th>subGrade</th>\n",
       "      <th>employmentTitle</th>\n",
       "      <th>employmentLength</th>\n",
       "      <th>homeOwnership</th>\n",
       "      <th>...</th>\n",
       "      <th>postCode</th>\n",
       "      <th>regionCode</th>\n",
       "      <th>dti</th>\n",
       "      <th>delinquency_2years</th>\n",
       "      <th>ficoRangeLow</th>\n",
       "      <th>ficoRangeHigh</th>\n",
       "      <th>openAcc</th>\n",
       "      <th>pubRec</th>\n",
       "      <th>pubRecBankruptcies</th>\n",
       "      <th>issueDays</th>\n",
       "    </tr>\n",
       "  </thead>\n",
       "  <tbody>\n",
       "    <tr>\n",
       "      <th>0</th>\n",
       "      <td>52811</td>\n",
       "      <td>10000.0</td>\n",
       "      <td>3</td>\n",
       "      <td>20.75</td>\n",
       "      <td>375.47</td>\n",
       "      <td>5</td>\n",
       "      <td>22</td>\n",
       "      <td>80.0</td>\n",
       "      <td>10</td>\n",
       "      <td>2</td>\n",
       "      <td>...</td>\n",
       "      <td>373.0</td>\n",
       "      <td>13</td>\n",
       "      <td>25.07</td>\n",
       "      <td>0.0</td>\n",
       "      <td>665.0</td>\n",
       "      <td>669.0</td>\n",
       "      <td>16.0</td>\n",
       "      <td>0.0</td>\n",
       "      <td>0.0</td>\n",
       "      <td>3196</td>\n",
       "    </tr>\n",
       "    <tr>\n",
       "      <th>1</th>\n",
       "      <td>475516</td>\n",
       "      <td>4000.0</td>\n",
       "      <td>3</td>\n",
       "      <td>24.50</td>\n",
       "      <td>157.99</td>\n",
       "      <td>6</td>\n",
       "      <td>28</td>\n",
       "      <td>286634.0</td>\n",
       "      <td>1</td>\n",
       "      <td>1</td>\n",
       "      <td>...</td>\n",
       "      <td>51.0</td>\n",
       "      <td>13</td>\n",
       "      <td>1.29</td>\n",
       "      <td>0.0</td>\n",
       "      <td>685.0</td>\n",
       "      <td>689.0</td>\n",
       "      <td>3.0</td>\n",
       "      <td>0.0</td>\n",
       "      <td>0.0</td>\n",
       "      <td>2222</td>\n",
       "    </tr>\n",
       "    <tr>\n",
       "      <th>2</th>\n",
       "      <td>122130</td>\n",
       "      <td>20000.0</td>\n",
       "      <td>3</td>\n",
       "      <td>6.11</td>\n",
       "      <td>609.44</td>\n",
       "      <td>1</td>\n",
       "      <td>1</td>\n",
       "      <td>229.0</td>\n",
       "      <td>7</td>\n",
       "      <td>1</td>\n",
       "      <td>...</td>\n",
       "      <td>708.0</td>\n",
       "      <td>13</td>\n",
       "      <td>11.29</td>\n",
       "      <td>0.0</td>\n",
       "      <td>705.0</td>\n",
       "      <td>709.0</td>\n",
       "      <td>5.0</td>\n",
       "      <td>1.0</td>\n",
       "      <td>1.0</td>\n",
       "      <td>4048</td>\n",
       "    </tr>\n",
       "    <tr>\n",
       "      <th>3</th>\n",
       "      <td>701379</td>\n",
       "      <td>7500.0</td>\n",
       "      <td>3</td>\n",
       "      <td>20.99</td>\n",
       "      <td>282.53</td>\n",
       "      <td>5</td>\n",
       "      <td>24</td>\n",
       "      <td>6731.0</td>\n",
       "      <td>10</td>\n",
       "      <td>1</td>\n",
       "      <td>...</td>\n",
       "      <td>188.0</td>\n",
       "      <td>23</td>\n",
       "      <td>35.52</td>\n",
       "      <td>0.0</td>\n",
       "      <td>675.0</td>\n",
       "      <td>679.0</td>\n",
       "      <td>11.0</td>\n",
       "      <td>1.0</td>\n",
       "      <td>1.0</td>\n",
       "      <td>2679</td>\n",
       "    </tr>\n",
       "    <tr>\n",
       "      <th>4</th>\n",
       "      <td>672853</td>\n",
       "      <td>6025.0</td>\n",
       "      <td>3</td>\n",
       "      <td>13.67</td>\n",
       "      <td>204.96</td>\n",
       "      <td>3</td>\n",
       "      <td>14</td>\n",
       "      <td>485.0</td>\n",
       "      <td>1</td>\n",
       "      <td>0</td>\n",
       "      <td>...</td>\n",
       "      <td>69.0</td>\n",
       "      <td>26</td>\n",
       "      <td>38.40</td>\n",
       "      <td>1.0</td>\n",
       "      <td>685.0</td>\n",
       "      <td>689.0</td>\n",
       "      <td>16.0</td>\n",
       "      <td>0.0</td>\n",
       "      <td>0.0</td>\n",
       "      <td>3105</td>\n",
       "    </tr>\n",
       "    <tr>\n",
       "      <th>...</th>\n",
       "      <td>...</td>\n",
       "      <td>...</td>\n",
       "      <td>...</td>\n",
       "      <td>...</td>\n",
       "      <td>...</td>\n",
       "      <td>...</td>\n",
       "      <td>...</td>\n",
       "      <td>...</td>\n",
       "      <td>...</td>\n",
       "      <td>...</td>\n",
       "      <td>...</td>\n",
       "      <td>...</td>\n",
       "      <td>...</td>\n",
       "      <td>...</td>\n",
       "      <td>...</td>\n",
       "      <td>...</td>\n",
       "      <td>...</td>\n",
       "      <td>...</td>\n",
       "      <td>...</td>\n",
       "      <td>...</td>\n",
       "      <td>...</td>\n",
       "    </tr>\n",
       "    <tr>\n",
       "      <th>639994</th>\n",
       "      <td>644167</td>\n",
       "      <td>20000.0</td>\n",
       "      <td>5</td>\n",
       "      <td>21.99</td>\n",
       "      <td>552.27</td>\n",
       "      <td>5</td>\n",
       "      <td>25</td>\n",
       "      <td>105774.0</td>\n",
       "      <td>2</td>\n",
       "      <td>0</td>\n",
       "      <td>...</td>\n",
       "      <td>253.0</td>\n",
       "      <td>21</td>\n",
       "      <td>29.51</td>\n",
       "      <td>0.0</td>\n",
       "      <td>690.0</td>\n",
       "      <td>694.0</td>\n",
       "      <td>14.0</td>\n",
       "      <td>0.0</td>\n",
       "      <td>0.0</td>\n",
       "      <td>2771</td>\n",
       "    </tr>\n",
       "    <tr>\n",
       "      <th>639996</th>\n",
       "      <td>365838</td>\n",
       "      <td>24000.0</td>\n",
       "      <td>5</td>\n",
       "      <td>14.46</td>\n",
       "      <td>564.18</td>\n",
       "      <td>3</td>\n",
       "      <td>14</td>\n",
       "      <td>2976.0</td>\n",
       "      <td>10</td>\n",
       "      <td>0</td>\n",
       "      <td>...</td>\n",
       "      <td>316.0</td>\n",
       "      <td>26</td>\n",
       "      <td>18.33</td>\n",
       "      <td>0.0</td>\n",
       "      <td>665.0</td>\n",
       "      <td>669.0</td>\n",
       "      <td>8.0</td>\n",
       "      <td>1.0</td>\n",
       "      <td>1.0</td>\n",
       "      <td>3196</td>\n",
       "    </tr>\n",
       "    <tr>\n",
       "      <th>639997</th>\n",
       "      <td>131932</td>\n",
       "      <td>8000.0</td>\n",
       "      <td>3</td>\n",
       "      <td>10.42</td>\n",
       "      <td>259.72</td>\n",
       "      <td>2</td>\n",
       "      <td>8</td>\n",
       "      <td>153023.0</td>\n",
       "      <td>2</td>\n",
       "      <td>1</td>\n",
       "      <td>...</td>\n",
       "      <td>539.0</td>\n",
       "      <td>42</td>\n",
       "      <td>32.93</td>\n",
       "      <td>0.0</td>\n",
       "      <td>685.0</td>\n",
       "      <td>689.0</td>\n",
       "      <td>4.0</td>\n",
       "      <td>0.0</td>\n",
       "      <td>0.0</td>\n",
       "      <td>3806</td>\n",
       "    </tr>\n",
       "    <tr>\n",
       "      <th>639998</th>\n",
       "      <td>671155</td>\n",
       "      <td>20000.0</td>\n",
       "      <td>3</td>\n",
       "      <td>9.16</td>\n",
       "      <td>637.49</td>\n",
       "      <td>2</td>\n",
       "      <td>7</td>\n",
       "      <td>23407.0</td>\n",
       "      <td>1</td>\n",
       "      <td>0</td>\n",
       "      <td>...</td>\n",
       "      <td>35.0</td>\n",
       "      <td>14</td>\n",
       "      <td>23.74</td>\n",
       "      <td>0.0</td>\n",
       "      <td>765.0</td>\n",
       "      <td>769.0</td>\n",
       "      <td>13.0</td>\n",
       "      <td>0.0</td>\n",
       "      <td>0.0</td>\n",
       "      <td>3167</td>\n",
       "    </tr>\n",
       "    <tr>\n",
       "      <th>639999</th>\n",
       "      <td>121958</td>\n",
       "      <td>5000.0</td>\n",
       "      <td>3</td>\n",
       "      <td>13.59</td>\n",
       "      <td>169.90</td>\n",
       "      <td>3</td>\n",
       "      <td>12</td>\n",
       "      <td>121949.0</td>\n",
       "      <td>10</td>\n",
       "      <td>0</td>\n",
       "      <td>...</td>\n",
       "      <td>357.0</td>\n",
       "      <td>0</td>\n",
       "      <td>34.96</td>\n",
       "      <td>0.0</td>\n",
       "      <td>665.0</td>\n",
       "      <td>669.0</td>\n",
       "      <td>21.0</td>\n",
       "      <td>1.0</td>\n",
       "      <td>1.0</td>\n",
       "      <td>3683</td>\n",
       "    </tr>\n",
       "  </tbody>\n",
       "</table>\n",
       "<p>619383 rows × 23 columns</p>\n",
       "</div>"
      ],
      "text/plain": [
       "            id  loanAmnt  term  interestRate  installment  grade  subGrade  \\\n",
       "0        52811   10000.0     3         20.75       375.47      5        22   \n",
       "1       475516    4000.0     3         24.50       157.99      6        28   \n",
       "2       122130   20000.0     3          6.11       609.44      1         1   \n",
       "3       701379    7500.0     3         20.99       282.53      5        24   \n",
       "4       672853    6025.0     3         13.67       204.96      3        14   \n",
       "...        ...       ...   ...           ...          ...    ...       ...   \n",
       "639994  644167   20000.0     5         21.99       552.27      5        25   \n",
       "639996  365838   24000.0     5         14.46       564.18      3        14   \n",
       "639997  131932    8000.0     3         10.42       259.72      2         8   \n",
       "639998  671155   20000.0     3          9.16       637.49      2         7   \n",
       "639999  121958    5000.0     3         13.59       169.90      3        12   \n",
       "\n",
       "        employmentTitle  employmentLength  homeOwnership  ...  postCode  \\\n",
       "0                  80.0                10              2  ...     373.0   \n",
       "1              286634.0                 1              1  ...      51.0   \n",
       "2                 229.0                 7              1  ...     708.0   \n",
       "3                6731.0                10              1  ...     188.0   \n",
       "4                 485.0                 1              0  ...      69.0   \n",
       "...                 ...               ...            ...  ...       ...   \n",
       "639994         105774.0                 2              0  ...     253.0   \n",
       "639996           2976.0                10              0  ...     316.0   \n",
       "639997         153023.0                 2              1  ...     539.0   \n",
       "639998          23407.0                 1              0  ...      35.0   \n",
       "639999         121949.0                10              0  ...     357.0   \n",
       "\n",
       "        regionCode    dti  delinquency_2years  ficoRangeLow  ficoRangeHigh  \\\n",
       "0               13  25.07                 0.0         665.0          669.0   \n",
       "1               13   1.29                 0.0         685.0          689.0   \n",
       "2               13  11.29                 0.0         705.0          709.0   \n",
       "3               23  35.52                 0.0         675.0          679.0   \n",
       "4               26  38.40                 1.0         685.0          689.0   \n",
       "...            ...    ...                 ...           ...            ...   \n",
       "639994          21  29.51                 0.0         690.0          694.0   \n",
       "639996          26  18.33                 0.0         665.0          669.0   \n",
       "639997          42  32.93                 0.0         685.0          689.0   \n",
       "639998          14  23.74                 0.0         765.0          769.0   \n",
       "639999           0  34.96                 0.0         665.0          669.0   \n",
       "\n",
       "        openAcc  pubRec  pubRecBankruptcies  issueDays  \n",
       "0          16.0     0.0                 0.0       3196  \n",
       "1           3.0     0.0                 0.0       2222  \n",
       "2           5.0     1.0                 1.0       4048  \n",
       "3          11.0     1.0                 1.0       2679  \n",
       "4          16.0     0.0                 0.0       3105  \n",
       "...         ...     ...                 ...        ...  \n",
       "639994     14.0     0.0                 0.0       2771  \n",
       "639996      8.0     1.0                 1.0       3196  \n",
       "639997      4.0     0.0                 0.0       3806  \n",
       "639998     13.0     0.0                 0.0       3167  \n",
       "639999     21.0     1.0                 1.0       3683  \n",
       "\n",
       "[619383 rows x 23 columns]"
      ]
     },
     "execution_count": 18,
     "metadata": {},
     "output_type": "execute_result"
    }
   ],
   "source": [
    "X_train_party1"
   ]
  },
  {
   "cell_type": "code",
   "execution_count": 19,
   "id": "46d4c40d",
   "metadata": {},
   "outputs": [],
   "source": [
    "X_train_party1.to_csv(\"data/X_train_party1_post2.csv\", index=False)"
   ]
  },
  {
   "cell_type": "markdown",
   "id": "d9bffcc0",
   "metadata": {},
   "source": [
    "训练集的y值也需要对应处理"
   ]
  },
  {
   "cell_type": "code",
   "execution_count": 20,
   "id": "716ae2a6",
   "metadata": {},
   "outputs": [],
   "source": [
    "Y_train_party1 = Y_train_party1.drop(error_index_list)"
   ]
  },
  {
   "cell_type": "code",
   "execution_count": 21,
   "id": "3054be2c",
   "metadata": {},
   "outputs": [
    {
     "data": {
      "text/plain": [
       "(619383, 1)"
      ]
     },
     "execution_count": 21,
     "metadata": {},
     "output_type": "execute_result"
    }
   ],
   "source": [
    "Y_train_party1.shape"
   ]
  },
  {
   "cell_type": "code",
   "execution_count": 22,
   "id": "029064a2",
   "metadata": {},
   "outputs": [],
   "source": [
    "Y_train_party1.to_csv(\"data/Y_train_party1_post2.csv\", index=False)"
   ]
  },
  {
   "cell_type": "markdown",
   "id": "9b035b4f",
   "metadata": {},
   "source": [
    "<h3>2.2 测试集3sigma异常值处理</h3>"
   ]
  },
  {
   "cell_type": "code",
   "execution_count": 23,
   "id": "1f024c38",
   "metadata": {},
   "outputs": [
    {
     "data": {
      "text/plain": [
       "60000.0     6103\n",
       "50000.0     5486\n",
       "70000.0     4558\n",
       "65000.0     4501\n",
       "40000.0     4346\n",
       "            ... \n",
       "72240.0        1\n",
       "42619.0        1\n",
       "23450.0        1\n",
       "128300.0       1\n",
       "40450.0        1\n",
       "Name: annualIncome, Length: 12810, dtype: int64"
      ]
     },
     "execution_count": 23,
     "metadata": {},
     "output_type": "execute_result"
    }
   ],
   "source": [
    "X_test_party1['annualIncome'].value_counts()"
   ]
  },
  {
   "cell_type": "code",
   "execution_count": 24,
   "id": "158e545e",
   "metadata": {},
   "outputs": [],
   "source": [
    "test1_col = ['loanAmnt', 'interestRate', 'installment', 'employmentTitle',\n",
    "       'dti', 'ficoRangeLow', 'ficoRangeHigh']"
   ]
  },
  {
   "cell_type": "code",
   "execution_count": 25,
   "id": "1429f0ca",
   "metadata": {},
   "outputs": [
    {
     "data": {
      "image/png": "[encoded data removed]",
      "text/plain": [
       "<Figure size 720x432 with 1 Axes>"
      ]
     },
     "metadata": {
      "needs_background": "light"
     },
     "output_type": "display_data"
    },
    {
     "data": {
      "image/png": "[encoded data removed]",
      "text/plain": [
       "<Figure size 720x432 with 1 Axes>"
      ]
     },
     "metadata": {
      "needs_background": "light"
     },
     "output_type": "display_data"
    },
    {
     "data": {
      "image/png": "[encoded data removed]",
      "text/plain": [
       "<Figure size 720x432 with 1 Axes>"
      ]
     },
     "metadata": {
      "needs_background": "light"
     },
     "output_type": "display_data"
    },
    {
     "data": {
      "image/png": "[encoded data removed]",
      "text/plain": [
       "<Figure size 720x432 with 1 Axes>"
      ]
     },
     "metadata": {
      "needs_background": "light"
     },
     "output_type": "display_data"
    },
    {
     "data": {
      "image/png": "[encoded data removed]",
      "text/plain": [
       "<Figure size 720x432 with 1 Axes>"
      ]
     },
     "metadata": {
      "needs_background": "light"
     },
     "output_type": "display_data"
    },
    {
     "data": {
      "image/png": "[encoded data removed]",
      "text/plain": [
       "<Figure size 720x432 with 1 Axes>"
      ]
     },
     "metadata": {
      "needs_background": "light"
     },
     "output_type": "display_data"
    },
    {
     "data": {
      "image/png": "[encoded data removed]",
      "text/plain": [
       "<Figure size 720x432 with 1 Axes>"
      ]
     },
     "metadata": {
      "needs_background": "light"
     },
     "output_type": "display_data"
    }
   ],
   "source": [
    "outlier_list, error_index_list = checkColumn(X_test_party1, test1_col)"
   ]
  },
  {
   "cell_type": "code",
   "execution_count": 26,
   "id": "7cb61de3",
   "metadata": {},
   "outputs": [
    {
     "data": {
      "text/plain": [
       "[0, 1178, 1607, 0, 185, 2355, 2355]"
      ]
     },
     "execution_count": 26,
     "metadata": {},
     "output_type": "execute_result"
    }
   ],
   "source": [
    "outlier_list"
   ]
  },
  {
   "cell_type": "code",
   "execution_count": 27,
   "id": "2c336ce2",
   "metadata": {},
   "outputs": [],
   "source": [
    "X_test_party1 = X_test_party1.drop(error_index_list)"
   ]
  },
  {
   "cell_type": "code",
   "execution_count": 28,
   "id": "363e6a54",
   "metadata": {},
   "outputs": [],
   "source": [
    "X_test_party1.to_csv(\"data/X_test_party1_post2.csv\", index=False)"
   ]
  },
  {
   "cell_type": "code",
   "execution_count": 29,
   "id": "d86fe498",
   "metadata": {},
   "outputs": [],
   "source": [
    "Y_test_party1 = Y_test_party1.drop(error_index_list)"
   ]
  },
  {
   "cell_type": "code",
   "execution_count": 30,
   "id": "2232054e",
   "metadata": {},
   "outputs": [
    {
     "data": {
      "text/plain": [
       "(154770, 1)"
      ]
     },
     "execution_count": 30,
     "metadata": {},
     "output_type": "execute_result"
    }
   ],
   "source": [
    "Y_test_party1.shape"
   ]
  },
  {
   "cell_type": "code",
   "execution_count": 31,
   "id": "26d6e4a3",
   "metadata": {},
   "outputs": [],
   "source": [
    "Y_test_party1.to_csv(\"data/Y_test_party1_post2.csv\", index=False)"
   ]
  },
  {
   "cell_type": "code",
   "execution_count": 34,
   "id": "2222f1ca",
   "metadata": {},
   "outputs": [
    {
     "data": {
      "text/plain": [
       "(619383, 23)"
      ]
     },
     "execution_count": 34,
     "metadata": {},
     "output_type": "execute_result"
    }
   ],
   "source": [
    "X_train_party1.shape"
   ]
  },
  {
   "cell_type": "code",
   "execution_count": 35,
   "id": "a76446fe",
   "metadata": {},
   "outputs": [
    {
     "data": {
      "text/plain": [
       "(154770, 23)"
      ]
     },
     "execution_count": 35,
     "metadata": {},
     "output_type": "execute_result"
    }
   ],
   "source": [
    "X_test_party1.shape"
   ]
  },
  {
   "cell_type": "code",
   "execution_count": 36,
   "id": "c14f5957",
   "metadata": {},
   "outputs": [
    {
     "data": {
      "text/plain": [
       "(619383, 1)"
      ]
     },
     "execution_count": 36,
     "metadata": {},
     "output_type": "execute_result"
    }
   ],
   "source": [
    "Y_train_party1.shape"
   ]
  },
  {
   "cell_type": "code",
   "execution_count": 38,
   "id": "ea742483",
   "metadata": {},
   "outputs": [
    {
     "data": {
      "text/plain": [
       "(154770, 1)"
      ]
     },
     "execution_count": 38,
     "metadata": {},
     "output_type": "execute_result"
    }
   ],
   "source": [
    "Y_test_party1.shape"
   ]
  },
  {
   "cell_type": "code",
   "execution_count": 39,
   "id": "0fcd60aa",
   "metadata": {},
   "outputs": [],
   "source": [
    "X_train_party2 = pd.read_csv(\"data/outlier_delete/party2/X_train_party2_post.csv\")\n",
    "X_test_party2 = pd.read_csv(\"data/outlier_delete/party2/X_test_party2_post.csv\")"
   ]
  },
  {
   "cell_type": "code",
   "execution_count": 40,
   "id": "67e02830",
   "metadata": {},
   "outputs": [
    {
     "data": {
      "text/plain": [
       "(640000, 24)"
      ]
     },
     "execution_count": 40,
     "metadata": {},
     "output_type": "execute_result"
    }
   ],
   "source": [
    "X_train_party2.shape"
   ]
  },
  {
   "cell_type": "code",
   "execution_count": 41,
   "id": "16b9b3a3",
   "metadata": {},
   "outputs": [
    {
     "data": {
      "text/plain": [
       "(160000, 24)"
      ]
     },
     "execution_count": 41,
     "metadata": {},
     "output_type": "execute_result"
    }
   ],
   "source": [
    "X_test_party2.shape"
   ]
  },
  {
   "cell_type": "code",
   "execution_count": null,
   "id": "b6cdbc19",
   "metadata": {},
   "outputs": [],
   "source": []
  }
 ],
 "metadata": {
  "kernelspec": {
   "display_name": "Python 3",
   "language": "python",
   "name": "python3"
  },
  "language_info": {
   "codemirror_mode": {
    "name": "ipython",
    "version": 3
   },
   "file_extension": ".py",
   "mimetype": "text/x-python",
   "name": "python",
   "nbconvert_exporter": "python",
   "pygments_lexer": "ipython3",
   "version": "3.6.8"
  }
 },
 "nbformat": 4,
 "nbformat_minor": 5
}

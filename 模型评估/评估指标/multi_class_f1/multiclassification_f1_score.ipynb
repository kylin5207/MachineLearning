{
 "cells": [
  {
   "cell_type": "markdown",
   "id": "fd5c97aa",
   "metadata": {
    "pycharm": {
     "name": "#%% md\n"
    }
   },
   "source": [
    "# 多分类评估"
   ]
  },
  {
   "cell_type": "code",
   "execution_count": 1,
   "id": "187cc382",
   "metadata": {
    "ExecuteTime": {
     "end_time": "2022-11-07T07:49:34.370859Z",
     "start_time": "2022-11-07T07:49:33.476310Z"
    },
    "pycharm": {
     "name": "#%%\n"
    }
   },
   "outputs": [],
   "source": [
    "import os\n",
    "import pandas as pd\n",
    "from sklearn.metrics import f1_score"
   ]
  },
  {
   "cell_type": "code",
   "execution_count": 2,
   "id": "55d1394b",
   "metadata": {
    "ExecuteTime": {
     "end_time": "2022-11-07T07:49:34.381980Z",
     "start_time": "2022-11-07T07:49:34.373635Z"
    },
    "pycharm": {
     "name": "#%%\n"
    }
   },
   "outputs": [],
   "source": [
    "y_true_df = pd.read_csv(\"y_true.tsv\", sep=\"\\t\", dtype=str)"
   ]
  },
  {
   "cell_type": "code",
   "execution_count": 3,
   "id": "42152604",
   "metadata": {
    "ExecuteTime": {
     "end_time": "2022-11-07T07:49:34.399550Z",
     "start_time": "2022-11-07T07:49:34.383915Z"
    },
    "pycharm": {
     "name": "#%%\n"
    }
   },
   "outputs": [
    {
     "data": {
      "text/html": [
       "<div>\n",
       "<style scoped>\n",
       "    .dataframe tbody tr th:only-of-type {\n",
       "        vertical-align: middle;\n",
       "    }\n",
       "\n",
       "    .dataframe tbody tr th {\n",
       "        vertical-align: top;\n",
       "    }\n",
       "\n",
       "    .dataframe thead th {\n",
       "        text-align: right;\n",
       "    }\n",
       "</style>\n",
       "<table border=\"1\" class=\"dataframe\">\n",
       "  <thead>\n",
       "    <tr style=\"text-align: right;\">\n",
       "      <th></th>\n",
       "      <th>sample</th>\n",
       "      <th>true</th>\n",
       "    </tr>\n",
       "  </thead>\n",
       "  <tbody>\n",
       "    <tr>\n",
       "      <th>0</th>\n",
       "      <td>JS03547</td>\n",
       "      <td>164890007</td>\n",
       "    </tr>\n",
       "    <tr>\n",
       "      <th>1</th>\n",
       "      <td>JS05376</td>\n",
       "      <td>426783006</td>\n",
       "    </tr>\n",
       "    <tr>\n",
       "      <th>2</th>\n",
       "      <td>JS03258</td>\n",
       "      <td>427084000</td>\n",
       "    </tr>\n",
       "    <tr>\n",
       "      <th>3</th>\n",
       "      <td>JS01739</td>\n",
       "      <td>426177001</td>\n",
       "    </tr>\n",
       "    <tr>\n",
       "      <th>4</th>\n",
       "      <td>JS30186</td>\n",
       "      <td>426177001</td>\n",
       "    </tr>\n",
       "    <tr>\n",
       "      <th>...</th>\n",
       "      <td>...</td>\n",
       "      <td>...</td>\n",
       "    </tr>\n",
       "    <tr>\n",
       "      <th>4230</th>\n",
       "      <td>JS41604</td>\n",
       "      <td>427084000</td>\n",
       "    </tr>\n",
       "    <tr>\n",
       "      <th>4231</th>\n",
       "      <td>JS10730</td>\n",
       "      <td>426177001</td>\n",
       "    </tr>\n",
       "    <tr>\n",
       "      <th>4232</th>\n",
       "      <td>JS17947</td>\n",
       "      <td>164890007</td>\n",
       "    </tr>\n",
       "    <tr>\n",
       "      <th>4233</th>\n",
       "      <td>JS19847</td>\n",
       "      <td>164890007</td>\n",
       "    </tr>\n",
       "    <tr>\n",
       "      <th>4234</th>\n",
       "      <td>JS00974</td>\n",
       "      <td>426783006</td>\n",
       "    </tr>\n",
       "  </tbody>\n",
       "</table>\n",
       "<p>4235 rows × 2 columns</p>\n",
       "</div>"
      ],
      "text/plain": [
       "       sample       true\n",
       "0     JS03547  164890007\n",
       "1     JS05376  426783006\n",
       "2     JS03258  427084000\n",
       "3     JS01739  426177001\n",
       "4     JS30186  426177001\n",
       "...       ...        ...\n",
       "4230  JS41604  427084000\n",
       "4231  JS10730  426177001\n",
       "4232  JS17947  164890007\n",
       "4233  JS19847  164890007\n",
       "4234  JS00974  426783006\n",
       "\n",
       "[4235 rows x 2 columns]"
      ]
     },
     "execution_count": 3,
     "metadata": {},
     "output_type": "execute_result"
    }
   ],
   "source": [
    "y_true_df"
   ]
  },
  {
   "cell_type": "code",
   "execution_count": 4,
   "id": "3556a195",
   "metadata": {
    "ExecuteTime": {
     "end_time": "2022-11-07T07:49:34.405507Z",
     "start_time": "2022-11-07T07:49:34.402827Z"
    },
    "pycharm": {
     "name": "#%%\n"
    }
   },
   "outputs": [],
   "source": [
    "predict_file = \"pred.csv\""
   ]
  },
  {
   "cell_type": "code",
   "execution_count": 20,
   "id": "4260f419",
   "metadata": {
    "ExecuteTime": {
     "end_time": "2022-11-07T07:50:57.422646Z",
     "start_time": "2022-11-07T07:50:57.412185Z"
    },
    "pycharm": {
     "name": "#%%\n"
    }
   },
   "outputs": [],
   "source": [
    "predict_df = pd.read_csv(predict_file, dtype=object)"
   ]
  },
  {
   "cell_type": "code",
   "execution_count": 21,
   "id": "d5ad7c53",
   "metadata": {
    "ExecuteTime": {
     "end_time": "2022-11-07T07:50:57.870394Z",
     "start_time": "2022-11-07T07:50:57.860888Z"
    },
    "pycharm": {
     "name": "#%%\n"
    }
   },
   "outputs": [
    {
     "data": {
      "text/html": [
       "<div>\n",
       "<style scoped>\n",
       "    .dataframe tbody tr th:only-of-type {\n",
       "        vertical-align: middle;\n",
       "    }\n",
       "\n",
       "    .dataframe tbody tr th {\n",
       "        vertical-align: top;\n",
       "    }\n",
       "\n",
       "    .dataframe thead th {\n",
       "        text-align: right;\n",
       "    }\n",
       "</style>\n",
       "<table border=\"1\" class=\"dataframe\">\n",
       "  <thead>\n",
       "    <tr style=\"text-align: right;\">\n",
       "      <th></th>\n",
       "      <th>sample</th>\n",
       "      <th>pred</th>\n",
       "    </tr>\n",
       "  </thead>\n",
       "  <tbody>\n",
       "    <tr>\n",
       "      <th>0</th>\n",
       "      <td>JS08532</td>\n",
       "      <td>426177001</td>\n",
       "    </tr>\n",
       "    <tr>\n",
       "      <th>1</th>\n",
       "      <td>JS42711</td>\n",
       "      <td>427084000</td>\n",
       "    </tr>\n",
       "    <tr>\n",
       "      <th>2</th>\n",
       "      <td>JS14674</td>\n",
       "      <td>164890007</td>\n",
       "    </tr>\n",
       "    <tr>\n",
       "      <th>3</th>\n",
       "      <td>JS08837</td>\n",
       "      <td>426783006</td>\n",
       "    </tr>\n",
       "    <tr>\n",
       "      <th>4</th>\n",
       "      <td>JS13472</td>\n",
       "      <td>164890007</td>\n",
       "    </tr>\n",
       "    <tr>\n",
       "      <th>...</th>\n",
       "      <td>...</td>\n",
       "      <td>...</td>\n",
       "    </tr>\n",
       "    <tr>\n",
       "      <th>4230</th>\n",
       "      <td>JS21500</td>\n",
       "      <td>426177001</td>\n",
       "    </tr>\n",
       "    <tr>\n",
       "      <th>4231</th>\n",
       "      <td>JS38369</td>\n",
       "      <td>426783006</td>\n",
       "    </tr>\n",
       "    <tr>\n",
       "      <th>4232</th>\n",
       "      <td>JS27620</td>\n",
       "      <td>426177001</td>\n",
       "    </tr>\n",
       "    <tr>\n",
       "      <th>4233</th>\n",
       "      <td>JS23515</td>\n",
       "      <td>426177001</td>\n",
       "    </tr>\n",
       "    <tr>\n",
       "      <th>4234</th>\n",
       "      <td>JS32307</td>\n",
       "      <td>426177001</td>\n",
       "    </tr>\n",
       "  </tbody>\n",
       "</table>\n",
       "<p>4235 rows × 2 columns</p>\n",
       "</div>"
      ],
      "text/plain": [
       "       sample       pred\n",
       "0     JS08532  426177001\n",
       "1     JS42711  427084000\n",
       "2     JS14674  164890007\n",
       "3     JS08837  426783006\n",
       "4     JS13472  164890007\n",
       "...       ...        ...\n",
       "4230  JS21500  426177001\n",
       "4231  JS38369  426783006\n",
       "4232  JS27620  426177001\n",
       "4233  JS23515  426177001\n",
       "4234  JS32307  426177001\n",
       "\n",
       "[4235 rows x 2 columns]"
      ]
     },
     "execution_count": 21,
     "metadata": {},
     "output_type": "execute_result"
    }
   ],
   "source": [
    "predict_df"
   ]
  },
  {
   "cell_type": "code",
   "execution_count": 22,
   "id": "39ffc17e",
   "metadata": {
    "ExecuteTime": {
     "end_time": "2022-11-07T07:50:58.681879Z",
     "start_time": "2022-11-07T07:50:58.673489Z"
    },
    "pycharm": {
     "name": "#%%\n"
    }
   },
   "outputs": [],
   "source": [
    "data_merge = pd.merge(y_true_df, predict_df, on=\"sample\")"
   ]
  },
  {
   "cell_type": "code",
   "execution_count": 23,
   "id": "4528b475",
   "metadata": {
    "ExecuteTime": {
     "end_time": "2022-11-07T07:50:59.099137Z",
     "start_time": "2022-11-07T07:50:59.089673Z"
    },
    "pycharm": {
     "name": "#%%\n"
    }
   },
   "outputs": [
    {
     "data": {
      "text/html": [
       "<div>\n",
       "<style scoped>\n",
       "    .dataframe tbody tr th:only-of-type {\n",
       "        vertical-align: middle;\n",
       "    }\n",
       "\n",
       "    .dataframe tbody tr th {\n",
       "        vertical-align: top;\n",
       "    }\n",
       "\n",
       "    .dataframe thead th {\n",
       "        text-align: right;\n",
       "    }\n",
       "</style>\n",
       "<table border=\"1\" class=\"dataframe\">\n",
       "  <thead>\n",
       "    <tr style=\"text-align: right;\">\n",
       "      <th></th>\n",
       "      <th>sample</th>\n",
       "      <th>true</th>\n",
       "      <th>pred</th>\n",
       "    </tr>\n",
       "  </thead>\n",
       "  <tbody>\n",
       "    <tr>\n",
       "      <th>0</th>\n",
       "      <td>JS03547</td>\n",
       "      <td>164890007</td>\n",
       "      <td>164890007</td>\n",
       "    </tr>\n",
       "    <tr>\n",
       "      <th>1</th>\n",
       "      <td>JS05376</td>\n",
       "      <td>426783006</td>\n",
       "      <td>426783006</td>\n",
       "    </tr>\n",
       "    <tr>\n",
       "      <th>2</th>\n",
       "      <td>JS03258</td>\n",
       "      <td>427084000</td>\n",
       "      <td>427084000</td>\n",
       "    </tr>\n",
       "    <tr>\n",
       "      <th>3</th>\n",
       "      <td>JS01739</td>\n",
       "      <td>426177001</td>\n",
       "      <td>426177001</td>\n",
       "    </tr>\n",
       "    <tr>\n",
       "      <th>4</th>\n",
       "      <td>JS30186</td>\n",
       "      <td>426177001</td>\n",
       "      <td>426177001</td>\n",
       "    </tr>\n",
       "    <tr>\n",
       "      <th>...</th>\n",
       "      <td>...</td>\n",
       "      <td>...</td>\n",
       "      <td>...</td>\n",
       "    </tr>\n",
       "    <tr>\n",
       "      <th>4230</th>\n",
       "      <td>JS41604</td>\n",
       "      <td>427084000</td>\n",
       "      <td>427084000</td>\n",
       "    </tr>\n",
       "    <tr>\n",
       "      <th>4231</th>\n",
       "      <td>JS10730</td>\n",
       "      <td>426177001</td>\n",
       "      <td>426177001</td>\n",
       "    </tr>\n",
       "    <tr>\n",
       "      <th>4232</th>\n",
       "      <td>JS17947</td>\n",
       "      <td>164890007</td>\n",
       "      <td>164890007</td>\n",
       "    </tr>\n",
       "    <tr>\n",
       "      <th>4233</th>\n",
       "      <td>JS19847</td>\n",
       "      <td>164890007</td>\n",
       "      <td>164890007</td>\n",
       "    </tr>\n",
       "    <tr>\n",
       "      <th>4234</th>\n",
       "      <td>JS00974</td>\n",
       "      <td>426783006</td>\n",
       "      <td>426783006</td>\n",
       "    </tr>\n",
       "  </tbody>\n",
       "</table>\n",
       "<p>4235 rows × 3 columns</p>\n",
       "</div>"
      ],
      "text/plain": [
       "       sample       true       pred\n",
       "0     JS03547  164890007  164890007\n",
       "1     JS05376  426783006  426783006\n",
       "2     JS03258  427084000  427084000\n",
       "3     JS01739  426177001  426177001\n",
       "4     JS30186  426177001  426177001\n",
       "...       ...        ...        ...\n",
       "4230  JS41604  427084000  427084000\n",
       "4231  JS10730  426177001  426177001\n",
       "4232  JS17947  164890007  164890007\n",
       "4233  JS19847  164890007  164890007\n",
       "4234  JS00974  426783006  426783006\n",
       "\n",
       "[4235 rows x 3 columns]"
      ]
     },
     "execution_count": 23,
     "metadata": {},
     "output_type": "execute_result"
    }
   ],
   "source": [
    "data_merge"
   ]
  },
  {
   "cell_type": "markdown",
   "id": "284ae389",
   "metadata": {
    "pycharm": {
     "name": "#%% md\n"
    }
   },
   "source": [
    "## 评估"
   ]
  },
  {
   "cell_type": "code",
   "execution_count": 24,
   "id": "94841488",
   "metadata": {
    "ExecuteTime": {
     "end_time": "2022-11-07T07:50:59.944068Z",
     "start_time": "2022-11-07T07:50:59.940606Z"
    },
    "pycharm": {
     "name": "#%%\n"
    }
   },
   "outputs": [],
   "source": [
    "y_true = data_merge[\"true\"].values"
   ]
  },
  {
   "cell_type": "code",
   "execution_count": 25,
   "id": "e971d633",
   "metadata": {
    "ExecuteTime": {
     "end_time": "2022-11-07T07:51:00.171986Z",
     "start_time": "2022-11-07T07:51:00.168346Z"
    },
    "pycharm": {
     "name": "#%%\n"
    }
   },
   "outputs": [],
   "source": [
    "y_pred = data_merge[\"pred\"].values"
   ]
  },
  {
   "cell_type": "code",
   "execution_count": 26,
   "id": "c3dcc143",
   "metadata": {
    "ExecuteTime": {
     "end_time": "2022-11-07T07:51:00.408017Z",
     "start_time": "2022-11-07T07:51:00.401113Z"
    },
    "pycharm": {
     "name": "#%%\n"
    }
   },
   "outputs": [
    {
     "data": {
      "text/plain": [
       "426177001    1664\n",
       "426783006     805\n",
       "164890007     789\n",
       "427084000     701\n",
       "164889003     182\n",
       "426761007      79\n",
       "713422000      15\n",
       "Name: true, dtype: int64"
      ]
     },
     "execution_count": 26,
     "metadata": {},
     "output_type": "execute_result"
    }
   ],
   "source": [
    "data_merge[\"true\"].value_counts()"
   ]
  },
  {
   "cell_type": "code",
   "execution_count": 27,
   "id": "96cb2885",
   "metadata": {
    "ExecuteTime": {
     "end_time": "2022-11-07T07:51:00.733242Z",
     "start_time": "2022-11-07T07:51:00.726879Z"
    },
    "pycharm": {
     "name": "#%%\n"
    }
   },
   "outputs": [
    {
     "data": {
      "text/plain": [
       "426177001    1696\n",
       "164890007     831\n",
       "426783006     791\n",
       "427084000     707\n",
       "426761007     106\n",
       "164889003     100\n",
       "713422000       4\n",
       "Name: pred, dtype: int64"
      ]
     },
     "execution_count": 27,
     "metadata": {},
     "output_type": "execute_result"
    }
   ],
   "source": [
    "data_merge[\"pred\"].value_counts()"
   ]
  },
  {
   "cell_type": "code",
   "execution_count": 28,
   "id": "65d2dc6d",
   "metadata": {
    "ExecuteTime": {
     "end_time": "2022-11-07T07:51:01.070469Z",
     "start_time": "2022-11-07T07:51:01.066762Z"
    },
    "pycharm": {
     "name": "#%%\n"
    }
   },
   "outputs": [],
   "source": [
    "import numpy as np"
   ]
  },
  {
   "cell_type": "code",
   "execution_count": 29,
   "id": "16d97ac9",
   "metadata": {
    "ExecuteTime": {
     "end_time": "2022-11-07T07:51:01.349662Z",
     "start_time": "2022-11-07T07:51:01.345287Z"
    },
    "pycharm": {
     "name": "#%%\n"
    }
   },
   "outputs": [],
   "source": [
    "labels = np.array(data_merge[\"pred\"].value_counts().index.values)"
   ]
  },
  {
   "cell_type": "code",
   "execution_count": 30,
   "id": "e56b4c57",
   "metadata": {
    "ExecuteTime": {
     "end_time": "2022-11-07T07:51:01.577099Z",
     "start_time": "2022-11-07T07:51:01.572761Z"
    },
    "pycharm": {
     "name": "#%%\n"
    }
   },
   "outputs": [
    {
     "data": {
      "text/plain": [
       "array(['426177001', '164890007', '426783006', '427084000', '426761007',\n",
       "       '164889003', '713422000'], dtype=object)"
      ]
     },
     "execution_count": 30,
     "metadata": {},
     "output_type": "execute_result"
    }
   ],
   "source": [
    "labels"
   ]
  },
  {
   "cell_type": "code",
   "execution_count": 31,
   "id": "621f9108",
   "metadata": {
    "ExecuteTime": {
     "end_time": "2022-11-07T07:51:02.016592Z",
     "start_time": "2022-11-07T07:51:02.011988Z"
    },
    "pycharm": {
     "name": "#%%\n"
    }
   },
   "outputs": [
    {
     "data": {
      "text/plain": [
       "(4235,)"
      ]
     },
     "execution_count": 31,
     "metadata": {},
     "output_type": "execute_result"
    }
   ],
   "source": [
    "y_true.shape"
   ]
  },
  {
   "cell_type": "code",
   "execution_count": 32,
   "id": "9fda1fc1",
   "metadata": {
    "ExecuteTime": {
     "end_time": "2022-11-07T07:51:02.541438Z",
     "start_time": "2022-11-07T07:51:02.536958Z"
    },
    "pycharm": {
     "name": "#%%\n"
    }
   },
   "outputs": [
    {
     "data": {
      "text/plain": [
       "array(['164890007', '426783006', '427084000', ..., '164890007',\n",
       "       '164890007', '426783006'], dtype=object)"
      ]
     },
     "execution_count": 32,
     "metadata": {},
     "output_type": "execute_result"
    }
   ],
   "source": [
    "y_true"
   ]
  },
  {
   "cell_type": "code",
   "execution_count": 33,
   "id": "ce6efe2a",
   "metadata": {
    "ExecuteTime": {
     "end_time": "2022-11-07T07:51:02.962923Z",
     "start_time": "2022-11-07T07:51:02.958553Z"
    },
    "pycharm": {
     "name": "#%%\n"
    }
   },
   "outputs": [
    {
     "data": {
      "text/plain": [
       "array(['164890007', '426783006', '427084000', ..., '164890007',\n",
       "       '164890007', '426783006'], dtype=object)"
      ]
     },
     "execution_count": 33,
     "metadata": {},
     "output_type": "execute_result"
    }
   ],
   "source": [
    "y_pred"
   ]
  },
  {
   "cell_type": "code",
   "execution_count": 34,
   "id": "7545ac27",
   "metadata": {
    "ExecuteTime": {
     "end_time": "2022-11-07T07:51:03.591740Z",
     "start_time": "2022-11-07T07:51:03.572508Z"
    },
    "pycharm": {
     "name": "#%%\n"
    }
   },
   "outputs": [
    {
     "data": {
      "text/plain": [
       "3824"
      ]
     },
     "execution_count": 34,
     "metadata": {},
     "output_type": "execute_result"
    }
   ],
   "source": [
    "sum(y_true == y_pred)"
   ]
  },
  {
   "cell_type": "code",
   "execution_count": 35,
   "id": "5abce14e",
   "metadata": {
    "ExecuteTime": {
     "end_time": "2022-11-07T07:51:04.003826Z",
     "start_time": "2022-11-07T07:51:03.993837Z"
    },
    "pycharm": {
     "name": "#%%\n"
    }
   },
   "outputs": [
    {
     "data": {
      "text/html": [
       "<div>\n",
       "<style scoped>\n",
       "    .dataframe tbody tr th:only-of-type {\n",
       "        vertical-align: middle;\n",
       "    }\n",
       "\n",
       "    .dataframe tbody tr th {\n",
       "        vertical-align: top;\n",
       "    }\n",
       "\n",
       "    .dataframe thead th {\n",
       "        text-align: right;\n",
       "    }\n",
       "</style>\n",
       "<table border=\"1\" class=\"dataframe\">\n",
       "  <thead>\n",
       "    <tr style=\"text-align: right;\">\n",
       "      <th></th>\n",
       "      <th>sample</th>\n",
       "      <th>true</th>\n",
       "      <th>pred</th>\n",
       "    </tr>\n",
       "  </thead>\n",
       "  <tbody>\n",
       "    <tr>\n",
       "      <th>0</th>\n",
       "      <td>JS03547</td>\n",
       "      <td>164890007</td>\n",
       "      <td>164890007</td>\n",
       "    </tr>\n",
       "    <tr>\n",
       "      <th>1</th>\n",
       "      <td>JS05376</td>\n",
       "      <td>426783006</td>\n",
       "      <td>426783006</td>\n",
       "    </tr>\n",
       "    <tr>\n",
       "      <th>2</th>\n",
       "      <td>JS03258</td>\n",
       "      <td>427084000</td>\n",
       "      <td>427084000</td>\n",
       "    </tr>\n",
       "    <tr>\n",
       "      <th>3</th>\n",
       "      <td>JS01739</td>\n",
       "      <td>426177001</td>\n",
       "      <td>426177001</td>\n",
       "    </tr>\n",
       "    <tr>\n",
       "      <th>4</th>\n",
       "      <td>JS30186</td>\n",
       "      <td>426177001</td>\n",
       "      <td>426177001</td>\n",
       "    </tr>\n",
       "    <tr>\n",
       "      <th>...</th>\n",
       "      <td>...</td>\n",
       "      <td>...</td>\n",
       "      <td>...</td>\n",
       "    </tr>\n",
       "    <tr>\n",
       "      <th>4230</th>\n",
       "      <td>JS41604</td>\n",
       "      <td>427084000</td>\n",
       "      <td>427084000</td>\n",
       "    </tr>\n",
       "    <tr>\n",
       "      <th>4231</th>\n",
       "      <td>JS10730</td>\n",
       "      <td>426177001</td>\n",
       "      <td>426177001</td>\n",
       "    </tr>\n",
       "    <tr>\n",
       "      <th>4232</th>\n",
       "      <td>JS17947</td>\n",
       "      <td>164890007</td>\n",
       "      <td>164890007</td>\n",
       "    </tr>\n",
       "    <tr>\n",
       "      <th>4233</th>\n",
       "      <td>JS19847</td>\n",
       "      <td>164890007</td>\n",
       "      <td>164890007</td>\n",
       "    </tr>\n",
       "    <tr>\n",
       "      <th>4234</th>\n",
       "      <td>JS00974</td>\n",
       "      <td>426783006</td>\n",
       "      <td>426783006</td>\n",
       "    </tr>\n",
       "  </tbody>\n",
       "</table>\n",
       "<p>4235 rows × 3 columns</p>\n",
       "</div>"
      ],
      "text/plain": [
       "       sample       true       pred\n",
       "0     JS03547  164890007  164890007\n",
       "1     JS05376  426783006  426783006\n",
       "2     JS03258  427084000  427084000\n",
       "3     JS01739  426177001  426177001\n",
       "4     JS30186  426177001  426177001\n",
       "...       ...        ...        ...\n",
       "4230  JS41604  427084000  427084000\n",
       "4231  JS10730  426177001  426177001\n",
       "4232  JS17947  164890007  164890007\n",
       "4233  JS19847  164890007  164890007\n",
       "4234  JS00974  426783006  426783006\n",
       "\n",
       "[4235 rows x 3 columns]"
      ]
     },
     "execution_count": 35,
     "metadata": {},
     "output_type": "execute_result"
    }
   ],
   "source": [
    "data_merge"
   ]
  },
  {
   "cell_type": "code",
   "execution_count": 36,
   "id": "f71f710b",
   "metadata": {
    "ExecuteTime": {
     "end_time": "2022-11-07T07:51:04.251865Z",
     "start_time": "2022-11-07T07:51:04.247399Z"
    },
    "pycharm": {
     "name": "#%%\n"
    }
   },
   "outputs": [],
   "source": [
    "def cal_f1(data, class_type):\n",
    "    y_true = (data[\"true\"] == class_type).values.astype(int)\n",
    "    y_pred = (data[\"pred\"] == class_type).values.astype(int)\n",
    "    f1 = f1_score(y_true, y_pred)\n",
    "    return f1"
   ]
  },
  {
   "cell_type": "code",
   "execution_count": 41,
   "id": "f3316a1d",
   "metadata": {
    "ExecuteTime": {
     "end_time": "2022-11-07T07:51:13.595783Z",
     "start_time": "2022-11-07T07:51:13.584957Z"
    },
    "scrolled": true,
    "pycharm": {
     "name": "#%%\n"
    }
   },
   "outputs": [
    {
     "data": {
      "text/plain": [
       "0.0"
      ]
     },
     "execution_count": 41,
     "metadata": {},
     "output_type": "execute_result"
    }
   ],
   "source": [
    "cal_f1(data_merge, \"713422000\")"
   ]
  },
  {
   "cell_type": "code",
   "execution_count": 42,
   "id": "b6829e99",
   "metadata": {
    "ExecuteTime": {
     "end_time": "2022-11-07T07:51:13.880429Z",
     "start_time": "2022-11-07T07:51:13.845476Z"
    },
    "pycharm": {
     "name": "#%%\n"
    }
   },
   "outputs": [
    {
     "name": "stdout",
     "output_type": "stream",
     "text": [
      "426177001 f1 = 0.9863095238095237\n",
      "164890007 f1 = 0.7864197530864199\n",
      "426783006 f1 = 0.9649122807017544\n",
      "427084000 f1 = 0.9573863636363636\n",
      "426761007 f1 = 0.6918918918918918\n",
      "164889003 f1 = 0.15602836879432624\n",
      "713422000 f1 = 0.0\n"
     ]
    }
   ],
   "source": [
    "for label in labels:\n",
    "    f1 = cal_f1(data_merge, label)\n",
    "    print(f\"{label} f1 = {f1}\")"
   ]
  }
 ],
 "metadata": {
  "kernelspec": {
   "display_name": "Python 3 (ipykernel)",
   "language": "python",
   "name": "python3"
  },
  "language_info": {
   "codemirror_mode": {
    "name": "ipython",
    "version": 3
   },
   "file_extension": ".py",
   "mimetype": "text/x-python",
   "name": "python",
   "nbconvert_exporter": "python",
   "pygments_lexer": "ipython3",
   "version": "3.8.6"
  }
 },
 "nbformat": 4,
 "nbformat_minor": 5
}
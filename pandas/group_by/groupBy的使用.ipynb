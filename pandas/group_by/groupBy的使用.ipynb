{
 "cells": [
  {
   "cell_type": "markdown",
   "id": "689dd280",
   "metadata": {},
   "source": [
    "# GroupBy的实现"
   ]
  },
  {
   "cell_type": "markdown",
   "id": "77488e41",
   "metadata": {},
   "source": [
    "## 一、数据生成"
   ]
  },
  {
   "cell_type": "code",
   "execution_count": 1,
   "id": "6d6fb7c8",
   "metadata": {},
   "outputs": [],
   "source": [
    "import numpy as np\n",
    "import pandas as pd"
   ]
  },
  {
   "cell_type": "markdown",
   "id": "ccc1a71a",
   "metadata": {},
   "source": [
    "假设有14条记录"
   ]
  },
  {
   "cell_type": "code",
   "execution_count": 2,
   "id": "0d304588",
   "metadata": {},
   "outputs": [],
   "source": [
    "NUM = 14"
   ]
  },
  {
   "cell_type": "code",
   "execution_count": 3,
   "id": "d3805f96",
   "metadata": {},
   "outputs": [],
   "source": [
    "np.random.seed(0)"
   ]
  },
  {
   "cell_type": "markdown",
   "id": "fab81e16",
   "metadata": {},
   "source": [
    "### Party1: 拥有学号、姓名，年龄，年级，性别字段"
   ]
  },
  {
   "cell_type": "code",
   "execution_count": 4,
   "id": "a2a5225e",
   "metadata": {},
   "outputs": [],
   "source": [
    "id_list = np.arange(10000, 10000+NUM)"
   ]
  },
  {
   "cell_type": "code",
   "execution_count": 5,
   "id": "315b2b2f",
   "metadata": {},
   "outputs": [],
   "source": [
    "name_list = list('ABCDEFGHIGKLMN')"
   ]
  },
  {
   "cell_type": "code",
   "execution_count": 6,
   "id": "16374f17",
   "metadata": {},
   "outputs": [],
   "source": [
    "age_list = np.random.randint(10, 15, NUM)"
   ]
  },
  {
   "cell_type": "code",
   "execution_count": 7,
   "id": "7333b41f",
   "metadata": {},
   "outputs": [],
   "source": [
    "grade_list = np.random.randint(0, 3, NUM)"
   ]
  },
  {
   "cell_type": "code",
   "execution_count": 8,
   "id": "f039cdac",
   "metadata": {},
   "outputs": [],
   "source": [
    "sex_list = np.random.randint(0, 2, NUM)"
   ]
  },
  {
   "cell_type": "code",
   "execution_count": 9,
   "id": "9d06c768",
   "metadata": {},
   "outputs": [],
   "source": [
    "data1 = pd.DataFrame({'id': id_list, 'name': name_list, 'grade': grade_list,\n",
    "                      'sex': sex_list, 'age': age_list})"
   ]
  },
  {
   "cell_type": "code",
   "execution_count": 10,
   "id": "b7353486",
   "metadata": {},
   "outputs": [
    {
     "data": {
      "text/html": [
       "<div>\n",
       "<style scoped>\n",
       "    .dataframe tbody tr th:only-of-type {\n",
       "        vertical-align: middle;\n",
       "    }\n",
       "\n",
       "    .dataframe tbody tr th {\n",
       "        vertical-align: top;\n",
       "    }\n",
       "\n",
       "    .dataframe thead th {\n",
       "        text-align: right;\n",
       "    }\n",
       "</style>\n",
       "<table border=\"1\" class=\"dataframe\">\n",
       "  <thead>\n",
       "    <tr style=\"text-align: right;\">\n",
       "      <th></th>\n",
       "      <th>id</th>\n",
       "      <th>name</th>\n",
       "      <th>grade</th>\n",
       "      <th>sex</th>\n",
       "      <th>age</th>\n",
       "    </tr>\n",
       "  </thead>\n",
       "  <tbody>\n",
       "    <tr>\n",
       "      <th>0</th>\n",
       "      <td>10000</td>\n",
       "      <td>A</td>\n",
       "      <td>2</td>\n",
       "      <td>0</td>\n",
       "      <td>14</td>\n",
       "    </tr>\n",
       "    <tr>\n",
       "      <th>1</th>\n",
       "      <td>10001</td>\n",
       "      <td>B</td>\n",
       "      <td>2</td>\n",
       "      <td>1</td>\n",
       "      <td>10</td>\n",
       "    </tr>\n",
       "    <tr>\n",
       "      <th>2</th>\n",
       "      <td>10002</td>\n",
       "      <td>C</td>\n",
       "      <td>0</td>\n",
       "      <td>0</td>\n",
       "      <td>13</td>\n",
       "    </tr>\n",
       "    <tr>\n",
       "      <th>3</th>\n",
       "      <td>10003</td>\n",
       "      <td>D</td>\n",
       "      <td>1</td>\n",
       "      <td>1</td>\n",
       "      <td>13</td>\n",
       "    </tr>\n",
       "    <tr>\n",
       "      <th>4</th>\n",
       "      <td>10004</td>\n",
       "      <td>E</td>\n",
       "      <td>1</td>\n",
       "      <td>1</td>\n",
       "      <td>13</td>\n",
       "    </tr>\n",
       "    <tr>\n",
       "      <th>5</th>\n",
       "      <td>10005</td>\n",
       "      <td>F</td>\n",
       "      <td>1</td>\n",
       "      <td>1</td>\n",
       "      <td>11</td>\n",
       "    </tr>\n",
       "    <tr>\n",
       "      <th>6</th>\n",
       "      <td>10006</td>\n",
       "      <td>G</td>\n",
       "      <td>1</td>\n",
       "      <td>1</td>\n",
       "      <td>13</td>\n",
       "    </tr>\n",
       "    <tr>\n",
       "      <th>7</th>\n",
       "      <td>10007</td>\n",
       "      <td>H</td>\n",
       "      <td>0</td>\n",
       "      <td>1</td>\n",
       "      <td>12</td>\n",
       "    </tr>\n",
       "    <tr>\n",
       "      <th>8</th>\n",
       "      <td>10008</td>\n",
       "      <td>I</td>\n",
       "      <td>1</td>\n",
       "      <td>0</td>\n",
       "      <td>14</td>\n",
       "    </tr>\n",
       "    <tr>\n",
       "      <th>9</th>\n",
       "      <td>10009</td>\n",
       "      <td>G</td>\n",
       "      <td>0</td>\n",
       "      <td>1</td>\n",
       "      <td>10</td>\n",
       "    </tr>\n",
       "    <tr>\n",
       "      <th>10</th>\n",
       "      <td>10010</td>\n",
       "      <td>K</td>\n",
       "      <td>0</td>\n",
       "      <td>0</td>\n",
       "      <td>10</td>\n",
       "    </tr>\n",
       "    <tr>\n",
       "      <th>11</th>\n",
       "      <td>10011</td>\n",
       "      <td>L</td>\n",
       "      <td>1</td>\n",
       "      <td>1</td>\n",
       "      <td>14</td>\n",
       "    </tr>\n",
       "    <tr>\n",
       "      <th>12</th>\n",
       "      <td>10012</td>\n",
       "      <td>M</td>\n",
       "      <td>2</td>\n",
       "      <td>1</td>\n",
       "      <td>12</td>\n",
       "    </tr>\n",
       "    <tr>\n",
       "      <th>13</th>\n",
       "      <td>10013</td>\n",
       "      <td>N</td>\n",
       "      <td>0</td>\n",
       "      <td>1</td>\n",
       "      <td>11</td>\n",
       "    </tr>\n",
       "  </tbody>\n",
       "</table>\n",
       "</div>"
      ],
      "text/plain": [
       "       id name  grade  sex  age\n",
       "0   10000    A      2    0   14\n",
       "1   10001    B      2    1   10\n",
       "2   10002    C      0    0   13\n",
       "3   10003    D      1    1   13\n",
       "4   10004    E      1    1   13\n",
       "5   10005    F      1    1   11\n",
       "6   10006    G      1    1   13\n",
       "7   10007    H      0    1   12\n",
       "8   10008    I      1    0   14\n",
       "9   10009    G      0    1   10\n",
       "10  10010    K      0    0   10\n",
       "11  10011    L      1    1   14\n",
       "12  10012    M      2    1   12\n",
       "13  10013    N      0    1   11"
      ]
     },
     "execution_count": 10,
     "metadata": {},
     "output_type": "execute_result"
    }
   ],
   "source": [
    "data1"
   ]
  },
  {
   "cell_type": "markdown",
   "id": "c71fe6df",
   "metadata": {},
   "source": [
    "### Party2: 拥有班级、成绩"
   ]
  },
  {
   "cell_type": "code",
   "execution_count": 11,
   "id": "15ac3f13",
   "metadata": {},
   "outputs": [],
   "source": [
    "class_list = np.random.randint(1, 4, NUM)"
   ]
  },
  {
   "cell_type": "code",
   "execution_count": 12,
   "id": "d142c3eb",
   "metadata": {},
   "outputs": [],
   "source": [
    "score_list = np.random.randint(55, 99, NUM)"
   ]
  },
  {
   "cell_type": "code",
   "execution_count": 13,
   "id": "43ea267c",
   "metadata": {},
   "outputs": [],
   "source": [
    "data2 = pd.DataFrame({'class': class_list, 'score': score_list})"
   ]
  },
  {
   "cell_type": "code",
   "execution_count": 14,
   "id": "126d0ece",
   "metadata": {},
   "outputs": [
    {
     "data": {
      "text/html": [
       "<div>\n",
       "<style scoped>\n",
       "    .dataframe tbody tr th:only-of-type {\n",
       "        vertical-align: middle;\n",
       "    }\n",
       "\n",
       "    .dataframe tbody tr th {\n",
       "        vertical-align: top;\n",
       "    }\n",
       "\n",
       "    .dataframe thead th {\n",
       "        text-align: right;\n",
       "    }\n",
       "</style>\n",
       "<table border=\"1\" class=\"dataframe\">\n",
       "  <thead>\n",
       "    <tr style=\"text-align: right;\">\n",
       "      <th></th>\n",
       "      <th>class</th>\n",
       "      <th>score</th>\n",
       "    </tr>\n",
       "  </thead>\n",
       "  <tbody>\n",
       "    <tr>\n",
       "      <th>0</th>\n",
       "      <td>1</td>\n",
       "      <td>72</td>\n",
       "    </tr>\n",
       "    <tr>\n",
       "      <th>1</th>\n",
       "      <td>3</td>\n",
       "      <td>70</td>\n",
       "    </tr>\n",
       "    <tr>\n",
       "      <th>2</th>\n",
       "      <td>1</td>\n",
       "      <td>59</td>\n",
       "    </tr>\n",
       "    <tr>\n",
       "      <th>3</th>\n",
       "      <td>3</td>\n",
       "      <td>96</td>\n",
       "    </tr>\n",
       "    <tr>\n",
       "      <th>4</th>\n",
       "      <td>3</td>\n",
       "      <td>97</td>\n",
       "    </tr>\n",
       "    <tr>\n",
       "      <th>5</th>\n",
       "      <td>1</td>\n",
       "      <td>86</td>\n",
       "    </tr>\n",
       "    <tr>\n",
       "      <th>6</th>\n",
       "      <td>3</td>\n",
       "      <td>56</td>\n",
       "    </tr>\n",
       "    <tr>\n",
       "      <th>7</th>\n",
       "      <td>1</td>\n",
       "      <td>56</td>\n",
       "    </tr>\n",
       "    <tr>\n",
       "      <th>8</th>\n",
       "      <td>1</td>\n",
       "      <td>94</td>\n",
       "    </tr>\n",
       "    <tr>\n",
       "      <th>9</th>\n",
       "      <td>1</td>\n",
       "      <td>96</td>\n",
       "    </tr>\n",
       "    <tr>\n",
       "      <th>10</th>\n",
       "      <td>2</td>\n",
       "      <td>90</td>\n",
       "    </tr>\n",
       "    <tr>\n",
       "      <th>11</th>\n",
       "      <td>2</td>\n",
       "      <td>93</td>\n",
       "    </tr>\n",
       "    <tr>\n",
       "      <th>12</th>\n",
       "      <td>3</td>\n",
       "      <td>66</td>\n",
       "    </tr>\n",
       "    <tr>\n",
       "      <th>13</th>\n",
       "      <td>1</td>\n",
       "      <td>73</td>\n",
       "    </tr>\n",
       "  </tbody>\n",
       "</table>\n",
       "</div>"
      ],
      "text/plain": [
       "    class  score\n",
       "0       1     72\n",
       "1       3     70\n",
       "2       1     59\n",
       "3       3     96\n",
       "4       3     97\n",
       "5       1     86\n",
       "6       3     56\n",
       "7       1     56\n",
       "8       1     94\n",
       "9       1     96\n",
       "10      2     90\n",
       "11      2     93\n",
       "12      3     66\n",
       "13      1     73"
      ]
     },
     "execution_count": 14,
     "metadata": {},
     "output_type": "execute_result"
    }
   ],
   "source": [
    "data2"
   ]
  },
  {
   "cell_type": "markdown",
   "id": "dd7dae05",
   "metadata": {},
   "source": [
    "## 二、GroupBy(实现方式一)"
   ]
  },
  {
   "cell_type": "code",
   "execution_count": 15,
   "id": "638f9f70",
   "metadata": {},
   "outputs": [],
   "source": [
    "SELECTED = 'sex'"
   ]
  },
  {
   "cell_type": "code",
   "execution_count": 17,
   "id": "4dcd58b7",
   "metadata": {},
   "outputs": [
    {
     "data": {
      "text/plain": [
       "sex\n",
       "0    10\n",
       "1    10\n",
       "Name: age, dtype: int64"
      ]
     },
     "execution_count": 17,
     "metadata": {},
     "output_type": "execute_result"
    }
   ],
   "source": [
    " data1.groupby(SELECTED)['age'].agg('min')"
   ]
  },
  {
   "cell_type": "markdown",
   "id": "6ca611d8",
   "metadata": {},
   "source": [
    "## 1. 如果分组字段和聚合字段在同一数据方，直接进行聚合计算即可"
   ]
  },
  {
   "cell_type": "code",
   "execution_count": 175,
   "id": "3b959b56",
   "metadata": {},
   "outputs": [],
   "source": [
    "data1['age_min'] = data1.groupby(SELECTED)['age'].transform('mean')"
   ]
  },
  {
   "cell_type": "code",
   "execution_count": 176,
   "id": "356fe9e1",
   "metadata": {},
   "outputs": [
    {
     "data": {
      "text/html": [
       "<div>\n",
       "<style scoped>\n",
       "    .dataframe tbody tr th:only-of-type {\n",
       "        vertical-align: middle;\n",
       "    }\n",
       "\n",
       "    .dataframe tbody tr th {\n",
       "        vertical-align: top;\n",
       "    }\n",
       "\n",
       "    .dataframe thead th {\n",
       "        text-align: right;\n",
       "    }\n",
       "</style>\n",
       "<table border=\"1\" class=\"dataframe\">\n",
       "  <thead>\n",
       "    <tr style=\"text-align: right;\">\n",
       "      <th></th>\n",
       "      <th>id</th>\n",
       "      <th>name</th>\n",
       "      <th>grade</th>\n",
       "      <th>sex</th>\n",
       "      <th>age</th>\n",
       "      <th>age_min</th>\n",
       "    </tr>\n",
       "  </thead>\n",
       "  <tbody>\n",
       "    <tr>\n",
       "      <th>0</th>\n",
       "      <td>10000</td>\n",
       "      <td>A</td>\n",
       "      <td>2</td>\n",
       "      <td>0</td>\n",
       "      <td>14</td>\n",
       "      <td>12.75</td>\n",
       "    </tr>\n",
       "    <tr>\n",
       "      <th>1</th>\n",
       "      <td>10001</td>\n",
       "      <td>B</td>\n",
       "      <td>2</td>\n",
       "      <td>1</td>\n",
       "      <td>10</td>\n",
       "      <td>11.90</td>\n",
       "    </tr>\n",
       "    <tr>\n",
       "      <th>2</th>\n",
       "      <td>10002</td>\n",
       "      <td>C</td>\n",
       "      <td>0</td>\n",
       "      <td>0</td>\n",
       "      <td>13</td>\n",
       "      <td>12.75</td>\n",
       "    </tr>\n",
       "    <tr>\n",
       "      <th>3</th>\n",
       "      <td>10003</td>\n",
       "      <td>D</td>\n",
       "      <td>1</td>\n",
       "      <td>1</td>\n",
       "      <td>13</td>\n",
       "      <td>11.90</td>\n",
       "    </tr>\n",
       "    <tr>\n",
       "      <th>4</th>\n",
       "      <td>10004</td>\n",
       "      <td>E</td>\n",
       "      <td>1</td>\n",
       "      <td>1</td>\n",
       "      <td>13</td>\n",
       "      <td>11.90</td>\n",
       "    </tr>\n",
       "    <tr>\n",
       "      <th>5</th>\n",
       "      <td>10005</td>\n",
       "      <td>F</td>\n",
       "      <td>1</td>\n",
       "      <td>1</td>\n",
       "      <td>11</td>\n",
       "      <td>11.90</td>\n",
       "    </tr>\n",
       "    <tr>\n",
       "      <th>6</th>\n",
       "      <td>10006</td>\n",
       "      <td>G</td>\n",
       "      <td>1</td>\n",
       "      <td>1</td>\n",
       "      <td>13</td>\n",
       "      <td>11.90</td>\n",
       "    </tr>\n",
       "    <tr>\n",
       "      <th>7</th>\n",
       "      <td>10007</td>\n",
       "      <td>H</td>\n",
       "      <td>0</td>\n",
       "      <td>1</td>\n",
       "      <td>12</td>\n",
       "      <td>11.90</td>\n",
       "    </tr>\n",
       "    <tr>\n",
       "      <th>8</th>\n",
       "      <td>10008</td>\n",
       "      <td>I</td>\n",
       "      <td>1</td>\n",
       "      <td>0</td>\n",
       "      <td>14</td>\n",
       "      <td>12.75</td>\n",
       "    </tr>\n",
       "    <tr>\n",
       "      <th>9</th>\n",
       "      <td>10009</td>\n",
       "      <td>G</td>\n",
       "      <td>0</td>\n",
       "      <td>1</td>\n",
       "      <td>10</td>\n",
       "      <td>11.90</td>\n",
       "    </tr>\n",
       "    <tr>\n",
       "      <th>10</th>\n",
       "      <td>10010</td>\n",
       "      <td>K</td>\n",
       "      <td>0</td>\n",
       "      <td>0</td>\n",
       "      <td>10</td>\n",
       "      <td>12.75</td>\n",
       "    </tr>\n",
       "    <tr>\n",
       "      <th>11</th>\n",
       "      <td>10011</td>\n",
       "      <td>L</td>\n",
       "      <td>1</td>\n",
       "      <td>1</td>\n",
       "      <td>14</td>\n",
       "      <td>11.90</td>\n",
       "    </tr>\n",
       "    <tr>\n",
       "      <th>12</th>\n",
       "      <td>10012</td>\n",
       "      <td>M</td>\n",
       "      <td>2</td>\n",
       "      <td>1</td>\n",
       "      <td>12</td>\n",
       "      <td>11.90</td>\n",
       "    </tr>\n",
       "    <tr>\n",
       "      <th>13</th>\n",
       "      <td>10013</td>\n",
       "      <td>N</td>\n",
       "      <td>0</td>\n",
       "      <td>1</td>\n",
       "      <td>11</td>\n",
       "      <td>11.90</td>\n",
       "    </tr>\n",
       "  </tbody>\n",
       "</table>\n",
       "</div>"
      ],
      "text/plain": [
       "       id name  grade  sex  age  age_min\n",
       "0   10000    A      2    0   14    12.75\n",
       "1   10001    B      2    1   10    11.90\n",
       "2   10002    C      0    0   13    12.75\n",
       "3   10003    D      1    1   13    11.90\n",
       "4   10004    E      1    1   13    11.90\n",
       "5   10005    F      1    1   11    11.90\n",
       "6   10006    G      1    1   13    11.90\n",
       "7   10007    H      0    1   12    11.90\n",
       "8   10008    I      1    0   14    12.75\n",
       "9   10009    G      0    1   10    11.90\n",
       "10  10010    K      0    0   10    12.75\n",
       "11  10011    L      1    1   14    11.90\n",
       "12  10012    M      2    1   12    11.90\n",
       "13  10013    N      0    1   11    11.90"
      ]
     },
     "execution_count": 176,
     "metadata": {},
     "output_type": "execute_result"
    }
   ],
   "source": [
    "data1"
   ]
  },
  {
   "cell_type": "markdown",
   "id": "abb687f3",
   "metadata": {},
   "source": [
    "## 2. 如果分组字段和聚合字段在不同数据方"
   ]
  },
  {
   "cell_type": "code",
   "execution_count": 177,
   "id": "b311a04c",
   "metadata": {},
   "outputs": [],
   "source": [
    "agg_col = 'score'"
   ]
  },
  {
   "cell_type": "markdown",
   "id": "c5fbd45b",
   "metadata": {},
   "source": [
    "## 2.1 排序和记录索引"
   ]
  },
  {
   "cell_type": "code",
   "execution_count": 178,
   "id": "96253dfa",
   "metadata": {},
   "outputs": [],
   "source": [
    "arg_list = data1[SELECTED].argsort()"
   ]
  },
  {
   "cell_type": "code",
   "execution_count": 179,
   "id": "b264274d",
   "metadata": {},
   "outputs": [],
   "source": [
    "selected_counts = data1[SELECTED].value_counts()"
   ]
  },
  {
   "cell_type": "code",
   "execution_count": 180,
   "id": "dc18f7e7",
   "metadata": {},
   "outputs": [],
   "source": [
    "index = selected_counts.index.argsort()"
   ]
  },
  {
   "cell_type": "code",
   "execution_count": 181,
   "id": "aa30017f",
   "metadata": {},
   "outputs": [],
   "source": [
    "counts = selected_counts[index].values"
   ]
  },
  {
   "cell_type": "code",
   "execution_count": 182,
   "id": "844df3c3",
   "metadata": {},
   "outputs": [],
   "source": [
    "value = np.cumsum(counts)"
   ]
  },
  {
   "cell_type": "code",
   "execution_count": 183,
   "id": "c0eb1d70",
   "metadata": {},
   "outputs": [
    {
     "data": {
      "text/plain": [
       "array([1, 0])"
      ]
     },
     "execution_count": 183,
     "metadata": {},
     "output_type": "execute_result"
    }
   ],
   "source": [
    "index"
   ]
  },
  {
   "cell_type": "markdown",
   "id": "0f859b52",
   "metadata": {},
   "source": [
    "按照索引分类取数据"
   ]
  },
  {
   "cell_type": "code",
   "execution_count": 184,
   "id": "c58969af",
   "metadata": {
    "scrolled": true
   },
   "outputs": [
    {
     "data": {
      "text/plain": [
       "array([10, 14])"
      ]
     },
     "execution_count": 184,
     "metadata": {},
     "output_type": "execute_result"
    }
   ],
   "source": [
    "value"
   ]
  },
  {
   "cell_type": "code",
   "execution_count": 185,
   "id": "5ac22c22",
   "metadata": {},
   "outputs": [
    {
     "data": {
      "text/plain": [
       "10"
      ]
     },
     "execution_count": 185,
     "metadata": {},
     "output_type": "execute_result"
    }
   ],
   "source": [
    "value[0]"
   ]
  },
  {
   "cell_type": "code",
   "execution_count": 186,
   "id": "9080d096",
   "metadata": {
    "scrolled": false
   },
   "outputs": [],
   "source": [
    "ids = arg_list[0: value[0]]"
   ]
  },
  {
   "cell_type": "code",
   "execution_count": 187,
   "id": "1e2f1bd0",
   "metadata": {},
   "outputs": [
    {
     "data": {
      "text/plain": [
       "0     0\n",
       "1     2\n",
       "2     8\n",
       "3    10\n",
       "4     1\n",
       "5     3\n",
       "6     4\n",
       "7     5\n",
       "8     6\n",
       "9     7\n",
       "Name: sex, dtype: int64"
      ]
     },
     "execution_count": 187,
     "metadata": {},
     "output_type": "execute_result"
    }
   ],
   "source": [
    "ids"
   ]
  },
  {
   "cell_type": "code",
   "execution_count": 188,
   "id": "5fd30c34",
   "metadata": {
    "scrolled": false
   },
   "outputs": [
    {
     "data": {
      "text/plain": [
       "96"
      ]
     },
     "execution_count": 188,
     "metadata": {},
     "output_type": "execute_result"
    }
   ],
   "source": [
    "data2[agg_col].iloc[ids].max()"
   ]
  },
  {
   "cell_type": "code",
   "execution_count": 189,
   "id": "af88a377",
   "metadata": {},
   "outputs": [],
   "source": [
    "data2.loc[0:value[0],'max'] = 93"
   ]
  },
  {
   "cell_type": "code",
   "execution_count": 190,
   "id": "abd57f41",
   "metadata": {},
   "outputs": [
    {
     "data": {
      "text/html": [
       "<div>\n",
       "<style scoped>\n",
       "    .dataframe tbody tr th:only-of-type {\n",
       "        vertical-align: middle;\n",
       "    }\n",
       "\n",
       "    .dataframe tbody tr th {\n",
       "        vertical-align: top;\n",
       "    }\n",
       "\n",
       "    .dataframe thead th {\n",
       "        text-align: right;\n",
       "    }\n",
       "</style>\n",
       "<table border=\"1\" class=\"dataframe\">\n",
       "  <thead>\n",
       "    <tr style=\"text-align: right;\">\n",
       "      <th></th>\n",
       "      <th>class</th>\n",
       "      <th>score</th>\n",
       "      <th>max</th>\n",
       "    </tr>\n",
       "  </thead>\n",
       "  <tbody>\n",
       "    <tr>\n",
       "      <th>0</th>\n",
       "      <td>1</td>\n",
       "      <td>60</td>\n",
       "      <td>93.0</td>\n",
       "    </tr>\n",
       "    <tr>\n",
       "      <th>1</th>\n",
       "      <td>1</td>\n",
       "      <td>96</td>\n",
       "      <td>93.0</td>\n",
       "    </tr>\n",
       "    <tr>\n",
       "      <th>2</th>\n",
       "      <td>1</td>\n",
       "      <td>90</td>\n",
       "      <td>93.0</td>\n",
       "    </tr>\n",
       "    <tr>\n",
       "      <th>3</th>\n",
       "      <td>1</td>\n",
       "      <td>55</td>\n",
       "      <td>93.0</td>\n",
       "    </tr>\n",
       "    <tr>\n",
       "      <th>4</th>\n",
       "      <td>1</td>\n",
       "      <td>86</td>\n",
       "      <td>93.0</td>\n",
       "    </tr>\n",
       "    <tr>\n",
       "      <th>5</th>\n",
       "      <td>1</td>\n",
       "      <td>60</td>\n",
       "      <td>93.0</td>\n",
       "    </tr>\n",
       "    <tr>\n",
       "      <th>6</th>\n",
       "      <td>3</td>\n",
       "      <td>85</td>\n",
       "      <td>93.0</td>\n",
       "    </tr>\n",
       "    <tr>\n",
       "      <th>7</th>\n",
       "      <td>1</td>\n",
       "      <td>55</td>\n",
       "      <td>93.0</td>\n",
       "    </tr>\n",
       "    <tr>\n",
       "      <th>8</th>\n",
       "      <td>3</td>\n",
       "      <td>91</td>\n",
       "      <td>93.0</td>\n",
       "    </tr>\n",
       "    <tr>\n",
       "      <th>9</th>\n",
       "      <td>2</td>\n",
       "      <td>89</td>\n",
       "      <td>93.0</td>\n",
       "    </tr>\n",
       "    <tr>\n",
       "      <th>10</th>\n",
       "      <td>2</td>\n",
       "      <td>84</td>\n",
       "      <td>93.0</td>\n",
       "    </tr>\n",
       "    <tr>\n",
       "      <th>11</th>\n",
       "      <td>2</td>\n",
       "      <td>58</td>\n",
       "      <td>NaN</td>\n",
       "    </tr>\n",
       "    <tr>\n",
       "      <th>12</th>\n",
       "      <td>1</td>\n",
       "      <td>89</td>\n",
       "      <td>NaN</td>\n",
       "    </tr>\n",
       "    <tr>\n",
       "      <th>13</th>\n",
       "      <td>2</td>\n",
       "      <td>97</td>\n",
       "      <td>NaN</td>\n",
       "    </tr>\n",
       "  </tbody>\n",
       "</table>\n",
       "</div>"
      ],
      "text/plain": [
       "    class  score   max\n",
       "0       1     60  93.0\n",
       "1       1     96  93.0\n",
       "2       1     90  93.0\n",
       "3       1     55  93.0\n",
       "4       1     86  93.0\n",
       "5       1     60  93.0\n",
       "6       3     85  93.0\n",
       "7       1     55  93.0\n",
       "8       3     91  93.0\n",
       "9       2     89  93.0\n",
       "10      2     84  93.0\n",
       "11      2     58   NaN\n",
       "12      1     89   NaN\n",
       "13      2     97   NaN"
      ]
     },
     "execution_count": 190,
     "metadata": {},
     "output_type": "execute_result"
    }
   ],
   "source": [
    "data2"
   ]
  },
  {
   "cell_type": "code",
   "execution_count": 191,
   "id": "1df09a82",
   "metadata": {},
   "outputs": [],
   "source": [
    "ids = arg_list[value[0]: value[1]]"
   ]
  },
  {
   "cell_type": "code",
   "execution_count": 192,
   "id": "70999365",
   "metadata": {},
   "outputs": [
    {
     "data": {
      "text/plain": [
       "10     9\n",
       "11    11\n",
       "12    12\n",
       "13    13\n",
       "Name: sex, dtype: int64"
      ]
     },
     "execution_count": 192,
     "metadata": {},
     "output_type": "execute_result"
    }
   ],
   "source": [
    "ids"
   ]
  },
  {
   "cell_type": "code",
   "execution_count": 193,
   "id": "93b02b76",
   "metadata": {},
   "outputs": [],
   "source": [
    "data2.loc[value[0]:value[1],'max'] = 97"
   ]
  },
  {
   "cell_type": "code",
   "execution_count": 195,
   "id": "acabaaea",
   "metadata": {},
   "outputs": [
    {
     "data": {
      "text/html": [
       "<div>\n",
       "<style scoped>\n",
       "    .dataframe tbody tr th:only-of-type {\n",
       "        vertical-align: middle;\n",
       "    }\n",
       "\n",
       "    .dataframe tbody tr th {\n",
       "        vertical-align: top;\n",
       "    }\n",
       "\n",
       "    .dataframe thead th {\n",
       "        text-align: right;\n",
       "    }\n",
       "</style>\n",
       "<table border=\"1\" class=\"dataframe\">\n",
       "  <thead>\n",
       "    <tr style=\"text-align: right;\">\n",
       "      <th></th>\n",
       "      <th>class</th>\n",
       "      <th>score</th>\n",
       "      <th>max</th>\n",
       "    </tr>\n",
       "  </thead>\n",
       "  <tbody>\n",
       "    <tr>\n",
       "      <th>0</th>\n",
       "      <td>1</td>\n",
       "      <td>60</td>\n",
       "      <td>93.0</td>\n",
       "    </tr>\n",
       "    <tr>\n",
       "      <th>1</th>\n",
       "      <td>1</td>\n",
       "      <td>96</td>\n",
       "      <td>93.0</td>\n",
       "    </tr>\n",
       "    <tr>\n",
       "      <th>2</th>\n",
       "      <td>1</td>\n",
       "      <td>90</td>\n",
       "      <td>93.0</td>\n",
       "    </tr>\n",
       "    <tr>\n",
       "      <th>3</th>\n",
       "      <td>1</td>\n",
       "      <td>55</td>\n",
       "      <td>93.0</td>\n",
       "    </tr>\n",
       "    <tr>\n",
       "      <th>4</th>\n",
       "      <td>1</td>\n",
       "      <td>86</td>\n",
       "      <td>93.0</td>\n",
       "    </tr>\n",
       "    <tr>\n",
       "      <th>5</th>\n",
       "      <td>1</td>\n",
       "      <td>60</td>\n",
       "      <td>93.0</td>\n",
       "    </tr>\n",
       "    <tr>\n",
       "      <th>6</th>\n",
       "      <td>3</td>\n",
       "      <td>85</td>\n",
       "      <td>93.0</td>\n",
       "    </tr>\n",
       "    <tr>\n",
       "      <th>7</th>\n",
       "      <td>1</td>\n",
       "      <td>55</td>\n",
       "      <td>93.0</td>\n",
       "    </tr>\n",
       "    <tr>\n",
       "      <th>8</th>\n",
       "      <td>3</td>\n",
       "      <td>91</td>\n",
       "      <td>93.0</td>\n",
       "    </tr>\n",
       "    <tr>\n",
       "      <th>9</th>\n",
       "      <td>2</td>\n",
       "      <td>89</td>\n",
       "      <td>93.0</td>\n",
       "    </tr>\n",
       "    <tr>\n",
       "      <th>10</th>\n",
       "      <td>2</td>\n",
       "      <td>84</td>\n",
       "      <td>97.0</td>\n",
       "    </tr>\n",
       "    <tr>\n",
       "      <th>11</th>\n",
       "      <td>2</td>\n",
       "      <td>58</td>\n",
       "      <td>97.0</td>\n",
       "    </tr>\n",
       "    <tr>\n",
       "      <th>12</th>\n",
       "      <td>1</td>\n",
       "      <td>89</td>\n",
       "      <td>97.0</td>\n",
       "    </tr>\n",
       "    <tr>\n",
       "      <th>13</th>\n",
       "      <td>2</td>\n",
       "      <td>97</td>\n",
       "      <td>97.0</td>\n",
       "    </tr>\n",
       "  </tbody>\n",
       "</table>\n",
       "</div>"
      ],
      "text/plain": [
       "    class  score   max\n",
       "0       1     60  93.0\n",
       "1       1     96  93.0\n",
       "2       1     90  93.0\n",
       "3       1     55  93.0\n",
       "4       1     86  93.0\n",
       "5       1     60  93.0\n",
       "6       3     85  93.0\n",
       "7       1     55  93.0\n",
       "8       3     91  93.0\n",
       "9       2     89  93.0\n",
       "10      2     84  97.0\n",
       "11      2     58  97.0\n",
       "12      1     89  97.0\n",
       "13      2     97  97.0"
      ]
     },
     "execution_count": 195,
     "metadata": {},
     "output_type": "execute_result"
    }
   ],
   "source": [
    "data2"
   ]
  },
  {
   "cell_type": "markdown",
   "id": "aedd6153",
   "metadata": {},
   "source": [
    "## 三、GroupBy(实现方式二)"
   ]
  },
  {
   "cell_type": "markdown",
   "id": "3645ea7c",
   "metadata": {},
   "source": [
    "### 1. 将原始数据中的内容替换掉，其实也就是保护起来"
   ]
  },
  {
   "cell_type": "code",
   "execution_count": 240,
   "id": "6279dc63",
   "metadata": {},
   "outputs": [],
   "source": [
    "unique_list = data1[SELECTED].unique()"
   ]
  },
  {
   "cell_type": "code",
   "execution_count": 241,
   "id": "4d6d4a85",
   "metadata": {},
   "outputs": [
    {
     "data": {
      "text/plain": [
       "array([0, 1])"
      ]
     },
     "execution_count": 241,
     "metadata": {},
     "output_type": "execute_result"
    }
   ],
   "source": [
    "unique_list"
   ]
  },
  {
   "cell_type": "code",
   "execution_count": 242,
   "id": "2e643836",
   "metadata": {},
   "outputs": [],
   "source": [
    "unique_dict = dict(zip(unique_list, range(len(unique_list))))"
   ]
  },
  {
   "cell_type": "code",
   "execution_count": 243,
   "id": "410205b9",
   "metadata": {},
   "outputs": [
    {
     "data": {
      "text/plain": [
       "{0: 0, 1: 1}"
      ]
     },
     "execution_count": 243,
     "metadata": {},
     "output_type": "execute_result"
    }
   ],
   "source": [
    "unique_dict"
   ]
  },
  {
   "cell_type": "code",
   "execution_count": 244,
   "id": "fecfe4bd",
   "metadata": {},
   "outputs": [],
   "source": [
    "def applyFunc(x, unique_dict):\n",
    "    return unique_dict[x]"
   ]
  },
  {
   "cell_type": "code",
   "execution_count": 245,
   "id": "b1eb20d4",
   "metadata": {},
   "outputs": [
    {
     "data": {
      "text/plain": [
       "0     0\n",
       "1     1\n",
       "2     0\n",
       "3     1\n",
       "4     1\n",
       "5     1\n",
       "6     1\n",
       "7     1\n",
       "8     0\n",
       "9     1\n",
       "10    0\n",
       "11    1\n",
       "12    1\n",
       "13    1\n",
       "Name: sex, dtype: int64"
      ]
     },
     "execution_count": 245,
     "metadata": {},
     "output_type": "execute_result"
    }
   ],
   "source": [
    "data1[SELECTED]"
   ]
  },
  {
   "cell_type": "code",
   "execution_count": 246,
   "id": "e03275e0",
   "metadata": {},
   "outputs": [],
   "source": [
    "df = data1[SELECTED].apply(applyFunc, args=(unique_dict,))"
   ]
  },
  {
   "cell_type": "code",
   "execution_count": 247,
   "id": "aef4ac03",
   "metadata": {},
   "outputs": [
    {
     "data": {
      "text/plain": [
       "0     0\n",
       "1     1\n",
       "2     0\n",
       "3     1\n",
       "4     1\n",
       "5     1\n",
       "6     1\n",
       "7     1\n",
       "8     0\n",
       "9     1\n",
       "10    0\n",
       "11    1\n",
       "12    1\n",
       "13    1\n",
       "Name: sex, dtype: int64"
      ]
     },
     "execution_count": 247,
     "metadata": {},
     "output_type": "execute_result"
    }
   ],
   "source": [
    "df"
   ]
  },
  {
   "cell_type": "markdown",
   "id": "3ab4177b",
   "metadata": {},
   "source": [
    "### 2. 另一个利用该数据，进行groupBy"
   ]
  },
  {
   "cell_type": "code",
   "execution_count": 248,
   "id": "8b6efd43",
   "metadata": {},
   "outputs": [],
   "source": [
    "data_new = pd.concat((data2, df), axis=1)"
   ]
  },
  {
   "cell_type": "code",
   "execution_count": 249,
   "id": "6ea9ca87",
   "metadata": {},
   "outputs": [],
   "source": [
    "data2['score_mean'] = data_new.groupby(SELECTED)[agg_col].transform(\"mean\")"
   ]
  },
  {
   "cell_type": "code",
   "execution_count": 250,
   "id": "04cd36d0",
   "metadata": {},
   "outputs": [
    {
     "data": {
      "text/html": [
       "<div>\n",
       "<style scoped>\n",
       "    .dataframe tbody tr th:only-of-type {\n",
       "        vertical-align: middle;\n",
       "    }\n",
       "\n",
       "    .dataframe tbody tr th {\n",
       "        vertical-align: top;\n",
       "    }\n",
       "\n",
       "    .dataframe thead th {\n",
       "        text-align: right;\n",
       "    }\n",
       "</style>\n",
       "<table border=\"1\" class=\"dataframe\">\n",
       "  <thead>\n",
       "    <tr style=\"text-align: right;\">\n",
       "      <th></th>\n",
       "      <th>class</th>\n",
       "      <th>score</th>\n",
       "      <th>score_mean</th>\n",
       "    </tr>\n",
       "  </thead>\n",
       "  <tbody>\n",
       "    <tr>\n",
       "      <th>0</th>\n",
       "      <td>1</td>\n",
       "      <td>57</td>\n",
       "      <td>69.75</td>\n",
       "    </tr>\n",
       "    <tr>\n",
       "      <th>1</th>\n",
       "      <td>1</td>\n",
       "      <td>58</td>\n",
       "      <td>75.30</td>\n",
       "    </tr>\n",
       "    <tr>\n",
       "      <th>2</th>\n",
       "      <td>3</td>\n",
       "      <td>85</td>\n",
       "      <td>69.75</td>\n",
       "    </tr>\n",
       "    <tr>\n",
       "      <th>3</th>\n",
       "      <td>1</td>\n",
       "      <td>89</td>\n",
       "      <td>75.30</td>\n",
       "    </tr>\n",
       "    <tr>\n",
       "      <th>4</th>\n",
       "      <td>3</td>\n",
       "      <td>98</td>\n",
       "      <td>75.30</td>\n",
       "    </tr>\n",
       "    <tr>\n",
       "      <th>5</th>\n",
       "      <td>3</td>\n",
       "      <td>68</td>\n",
       "      <td>75.30</td>\n",
       "    </tr>\n",
       "    <tr>\n",
       "      <th>6</th>\n",
       "      <td>3</td>\n",
       "      <td>95</td>\n",
       "      <td>75.30</td>\n",
       "    </tr>\n",
       "    <tr>\n",
       "      <th>7</th>\n",
       "      <td>1</td>\n",
       "      <td>63</td>\n",
       "      <td>75.30</td>\n",
       "    </tr>\n",
       "    <tr>\n",
       "      <th>8</th>\n",
       "      <td>1</td>\n",
       "      <td>74</td>\n",
       "      <td>69.75</td>\n",
       "    </tr>\n",
       "    <tr>\n",
       "      <th>9</th>\n",
       "      <td>1</td>\n",
       "      <td>86</td>\n",
       "      <td>75.30</td>\n",
       "    </tr>\n",
       "    <tr>\n",
       "      <th>10</th>\n",
       "      <td>2</td>\n",
       "      <td>63</td>\n",
       "      <td>69.75</td>\n",
       "    </tr>\n",
       "    <tr>\n",
       "      <th>11</th>\n",
       "      <td>3</td>\n",
       "      <td>81</td>\n",
       "      <td>75.30</td>\n",
       "    </tr>\n",
       "    <tr>\n",
       "      <th>12</th>\n",
       "      <td>1</td>\n",
       "      <td>57</td>\n",
       "      <td>75.30</td>\n",
       "    </tr>\n",
       "    <tr>\n",
       "      <th>13</th>\n",
       "      <td>2</td>\n",
       "      <td>58</td>\n",
       "      <td>75.30</td>\n",
       "    </tr>\n",
       "  </tbody>\n",
       "</table>\n",
       "</div>"
      ],
      "text/plain": [
       "    class  score  score_mean\n",
       "0       1     57       69.75\n",
       "1       1     58       75.30\n",
       "2       3     85       69.75\n",
       "3       1     89       75.30\n",
       "4       3     98       75.30\n",
       "5       3     68       75.30\n",
       "6       3     95       75.30\n",
       "7       1     63       75.30\n",
       "8       1     74       69.75\n",
       "9       1     86       75.30\n",
       "10      2     63       69.75\n",
       "11      3     81       75.30\n",
       "12      1     57       75.30\n",
       "13      2     58       75.30"
      ]
     },
     "execution_count": 250,
     "metadata": {},
     "output_type": "execute_result"
    }
   ],
   "source": [
    "data2"
   ]
  },
  {
   "cell_type": "code",
   "execution_count": null,
   "id": "124f1882",
   "metadata": {},
   "outputs": [],
   "source": []
  },
  {
   "cell_type": "code",
   "execution_count": null,
   "id": "6224e74c",
   "metadata": {},
   "outputs": [],
   "source": []
  }
 ],
 "metadata": {
  "kernelspec": {
   "display_name": "Python 3",
   "language": "python",
   "name": "python3"
  },
  "language_info": {
   "codemirror_mode": {
    "name": "ipython",
    "version": 3
   },
   "file_extension": ".py",
   "mimetype": "text/x-python",
   "name": "python",
   "nbconvert_exporter": "python",
   "pygments_lexer": "ipython3",
   "version": "3.6.8"
  }
 },
 "nbformat": 4,
 "nbformat_minor": 5
}

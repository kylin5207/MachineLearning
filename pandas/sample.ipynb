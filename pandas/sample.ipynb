{
 "cells": [
  {
   "cell_type": "markdown",
   "id": "681ab6ab",
   "metadata": {},
   "source": [
    "# pandas.sample采样"
   ]
  },
  {
   "cell_type": "markdown",
   "id": "4f6c8383",
   "metadata": {},
   "source": [
    "从所选的数据指定axis上返回随机抽样结果，类似于random.sample()函数"
   ]
  },
  {
   "cell_type": "markdown",
   "id": "8b97fb11",
   "metadata": {},
   "source": [
    "## 参数"
   ]
  },
  {
   "cell_type": "markdown",
   "id": "02fb5c75",
   "metadata": {},
   "source": [
    "· n: int 随机抽样返回的items个数。当frac = None时不可用<br>\n",
    "· frac:float, 要返回的 axis items 数量的小数(比例)表示。不能与n一起使用。<br>\n",
    "· replace: bool, 是否是有放回取样<br>\n",
    "· weights: str或者ndarray，默认的“None”将导致相等的概率权重。如果传递了一个序列，将与目标对象上的索引对齐。权重中未被采样对象发现的索引值将被忽略，权重中未被采样对象的索引值将被赋值为零。如果在DataFrame上调用，将在axis = 0时接受列的名称。除非权重是一个序列，否则权重必须与被采样的轴长度相同。如果权重的和不是1，它们将被规范化为和为1。weights列中缺少的值将被视为零。不允许无限值。<br>"
   ]
  },
  {
   "cell_type": "markdown",
   "id": "6e3cf90e",
   "metadata": {},
   "source": [
    "## 1. 定义数据"
   ]
  },
  {
   "cell_type": "code",
   "execution_count": 1,
   "id": "fbbe2db8",
   "metadata": {},
   "outputs": [],
   "source": [
    "import pandas as pd"
   ]
  },
  {
   "cell_type": "code",
   "execution_count": 2,
   "id": "b0270f66",
   "metadata": {},
   "outputs": [],
   "source": [
    "data = pd.DataFrame({\"num_legs\": [2, 4, 8, 0], \n",
    "                     \"num_wings\": [2, 0, 0, 0]},\n",
    "                     index=['falcon', 'dog', 'spider', 'fish'])"
   ]
  },
  {
   "cell_type": "code",
   "execution_count": 3,
   "id": "617bc2b8",
   "metadata": {},
   "outputs": [
    {
     "data": {
      "text/html": [
       "<div>\n",
       "<style scoped>\n",
       "    .dataframe tbody tr th:only-of-type {\n",
       "        vertical-align: middle;\n",
       "    }\n",
       "\n",
       "    .dataframe tbody tr th {\n",
       "        vertical-align: top;\n",
       "    }\n",
       "\n",
       "    .dataframe thead th {\n",
       "        text-align: right;\n",
       "    }\n",
       "</style>\n",
       "<table border=\"1\" class=\"dataframe\">\n",
       "  <thead>\n",
       "    <tr style=\"text-align: right;\">\n",
       "      <th></th>\n",
       "      <th>num_legs</th>\n",
       "      <th>num_wings</th>\n",
       "    </tr>\n",
       "  </thead>\n",
       "  <tbody>\n",
       "    <tr>\n",
       "      <th>falcon</th>\n",
       "      <td>2</td>\n",
       "      <td>2</td>\n",
       "    </tr>\n",
       "    <tr>\n",
       "      <th>dog</th>\n",
       "      <td>4</td>\n",
       "      <td>0</td>\n",
       "    </tr>\n",
       "    <tr>\n",
       "      <th>spider</th>\n",
       "      <td>8</td>\n",
       "      <td>0</td>\n",
       "    </tr>\n",
       "    <tr>\n",
       "      <th>fish</th>\n",
       "      <td>0</td>\n",
       "      <td>0</td>\n",
       "    </tr>\n",
       "  </tbody>\n",
       "</table>\n",
       "</div>"
      ],
      "text/plain": [
       "        num_legs  num_wings\n",
       "falcon         2          2\n",
       "dog            4          0\n",
       "spider         8          0\n",
       "fish           0          0"
      ]
     },
     "execution_count": 3,
     "metadata": {},
     "output_type": "execute_result"
    }
   ],
   "source": [
    "data"
   ]
  },
  {
   "cell_type": "markdown",
   "id": "8c2b7e5c",
   "metadata": {},
   "source": [
    "## 2. 从Series data['num_legs']中随机提取3个元素"
   ]
  },
  {
   "cell_type": "markdown",
   "id": "8018f012",
   "metadata": {},
   "source": [
    "默认情况下，使用的是无放回抽样，即replace=False"
   ]
  },
  {
   "cell_type": "code",
   "execution_count": 5,
   "id": "35487ef0",
   "metadata": {
    "scrolled": false
   },
   "outputs": [
    {
     "data": {
      "text/plain": [
       "spider    8\n",
       "fish      0\n",
       "dog       4\n",
       "Name: num_legs, dtype: int64"
      ]
     },
     "execution_count": 5,
     "metadata": {},
     "output_type": "execute_result"
    }
   ],
   "source": [
    "data['num_legs'].sample(n=3, random_state=0)"
   ]
  },
  {
   "cell_type": "markdown",
   "id": "60fc8c5b",
   "metadata": {},
   "source": [
    "## 3. 有放回抽样"
   ]
  },
  {
   "cell_type": "markdown",
   "id": "a39760c8",
   "metadata": {},
   "source": [
    "先设定replace=True"
   ]
  },
  {
   "cell_type": "markdown",
   "id": "b4e86bef",
   "metadata": {},
   "source": [
    "frac设定随机抽取的数据比例, 注意：当frac>1时必须设置replace=True"
   ]
  },
  {
   "cell_type": "code",
   "execution_count": 7,
   "id": "98a1a5ea",
   "metadata": {},
   "outputs": [
    {
     "data": {
      "text/plain": [
       "falcon    2\n",
       "fish      0\n",
       "Name: num_legs, dtype: int64"
      ]
     },
     "execution_count": 7,
     "metadata": {},
     "output_type": "execute_result"
    }
   ],
   "source": [
    "data['num_legs'].sample(frac=0.5, random_state=0, replace=True)"
   ]
  },
  {
   "cell_type": "code",
   "execution_count": null,
   "id": "e93f6bef",
   "metadata": {},
   "outputs": [],
   "source": []
  }
 ],
 "metadata": {
  "kernelspec": {
   "display_name": "Python 3",
   "language": "python",
   "name": "python3"
  },
  "language_info": {
   "codemirror_mode": {
    "name": "ipython",
    "version": 3
   },
   "file_extension": ".py",
   "mimetype": "text/x-python",
   "name": "python",
   "nbconvert_exporter": "python",
   "pygments_lexer": "ipython3",
   "version": "3.6.8"
  }
 },
 "nbformat": 4,
 "nbformat_minor": 5
}

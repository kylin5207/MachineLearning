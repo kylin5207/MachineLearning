{
 "cells": [
  {
   "cell_type": "markdown",
   "id": "9988e181",
   "metadata": {},
   "source": [
    "<h2>numpy.insert的用法</h2>"
   ]
  },
  {
   "cell_type": "markdown",
   "id": "1156c9eb",
   "metadata": {},
   "source": [
    "numpy.insert可以有三个参数（arr，obj，values），也可以有4个参数（arr，obj，values，axis）：<br>\n",
    "第一个参数arr是一个数组，可以是一维的也可以是多维的，在arr的基础上插入元素<br>\n",
    "第二个参数obj是元素插入的位置<br>\n",
    "第三个参数values是需要插入的数值<br>\n",
    "第四个参数axis是指示在哪一个轴上对应的插入位置进行插入<br>"
   ]
  },
  {
   "cell_type": "code",
   "execution_count": 1,
   "id": "2dc3f7ed",
   "metadata": {},
   "outputs": [],
   "source": [
    "import numpy as np"
   ]
  },
  {
   "cell_type": "code",
   "execution_count": 2,
   "id": "5866d75f",
   "metadata": {},
   "outputs": [],
   "source": [
    "array1 = np.array([[1, 2], [3, 4], [5, 6]])"
   ]
  },
  {
   "cell_type": "code",
   "execution_count": 3,
   "id": "e728dfcc",
   "metadata": {},
   "outputs": [
    {
     "data": {
      "text/plain": [
       "array([[1, 2],\n",
       "       [3, 4],\n",
       "       [5, 6]])"
      ]
     },
     "execution_count": 3,
     "metadata": {},
     "output_type": "execute_result"
    }
   ],
   "source": [
    "array1"
   ]
  },
  {
   "cell_type": "code",
   "execution_count": 4,
   "id": "abb18944",
   "metadata": {},
   "outputs": [
    {
     "data": {
      "text/plain": [
       "array([ 1, 10,  2,  3,  4,  5,  6])"
      ]
     },
     "execution_count": 4,
     "metadata": {},
     "output_type": "execute_result"
    }
   ],
   "source": [
    "np.insert(array1, 1, 10)"
   ]
  },
  {
   "cell_type": "markdown",
   "id": "9b874efa",
   "metadata": {},
   "source": [
    "<font color='red'>如果第四个参数没有给出，那么就默认为先对arr进行flatten操作，变为一维数组，然后再在对应的位置上插入对应的值。</font>"
   ]
  },
  {
   "cell_type": "code",
   "execution_count": 5,
   "id": "3ba874da",
   "metadata": {},
   "outputs": [
    {
     "data": {
      "text/plain": [
       "array([[ 1, 11,  2],\n",
       "       [ 3, 11,  4],\n",
       "       [ 5, 11,  6]])"
      ]
     },
     "execution_count": 5,
     "metadata": {},
     "output_type": "execute_result"
    }
   ],
   "source": [
    "np.insert(array1, 1, 11, axis=1)"
   ]
  },
  {
   "cell_type": "markdown",
   "id": "4a44fa85",
   "metadata": {},
   "source": [
    "在二维数组的某一列插入一个数，这个数会在该维度的每一个数组中都插入。"
   ]
  },
  {
   "cell_type": "code",
   "execution_count": 6,
   "id": "a1b53de4",
   "metadata": {},
   "outputs": [
    {
     "data": {
      "text/plain": [
       "array([[1, 1, 2],\n",
       "       [3, 2, 4],\n",
       "       [5, 3, 6]])"
      ]
     },
     "execution_count": 6,
     "metadata": {},
     "output_type": "execute_result"
    }
   ],
   "source": [
    "np.insert(array1, 1, [1, 2, 3], axis=1)"
   ]
  },
  {
   "cell_type": "markdown",
   "id": "58179970",
   "metadata": {},
   "source": [
    "<h2>应用：插值0</h2>"
   ]
  },
  {
   "cell_type": "markdown",
   "id": "0e3d3276",
   "metadata": {},
   "source": [
    "首先，产生一个随机数组"
   ]
  },
  {
   "cell_type": "code",
   "execution_count": 14,
   "id": "77801d12",
   "metadata": {},
   "outputs": [],
   "source": [
    "arr = np.random.randint(1, 10, size=10)"
   ]
  },
  {
   "cell_type": "code",
   "execution_count": 15,
   "id": "3dd1ba26",
   "metadata": {},
   "outputs": [
    {
     "data": {
      "text/plain": [
       "array([1, 3, 6, 8, 3, 9, 9, 3, 9, 4])"
      ]
     },
     "execution_count": 15,
     "metadata": {},
     "output_type": "execute_result"
    }
   ],
   "source": [
    "arr"
   ]
  },
  {
   "cell_type": "markdown",
   "id": "dcfe87cd",
   "metadata": {},
   "source": [
    "插值（插0）操作是想在上述每个数值后面都插入0, 插入的0的个数由插值倍数决定"
   ]
  },
  {
   "cell_type": "code",
   "execution_count": 16,
   "id": "de60d3d3",
   "metadata": {},
   "outputs": [],
   "source": [
    "brr = arr.reshape(-1,1)"
   ]
  },
  {
   "cell_type": "code",
   "execution_count": 18,
   "id": "01944fbc",
   "metadata": {},
   "outputs": [],
   "source": [
    "crr = np.insert(brr, 1, [[0], [0]], axis=1)"
   ]
  },
  {
   "cell_type": "code",
   "execution_count": 19,
   "id": "2f9ad63c",
   "metadata": {},
   "outputs": [
    {
     "data": {
      "text/plain": [
       "array([[1, 0, 0],\n",
       "       [3, 0, 0],\n",
       "       [6, 0, 0],\n",
       "       [8, 0, 0],\n",
       "       [3, 0, 0],\n",
       "       [9, 0, 0],\n",
       "       [9, 0, 0],\n",
       "       [3, 0, 0],\n",
       "       [9, 0, 0],\n",
       "       [4, 0, 0]])"
      ]
     },
     "execution_count": 19,
     "metadata": {},
     "output_type": "execute_result"
    }
   ],
   "source": [
    "crr"
   ]
  },
  {
   "cell_type": "code",
   "execution_count": 20,
   "id": "cfe843c4",
   "metadata": {},
   "outputs": [
    {
     "data": {
      "text/plain": [
       "array([1, 0, 0, 3, 0, 0, 6, 0, 0, 8, 0, 0, 3, 0, 0, 9, 0, 0, 9, 0, 0, 3,\n",
       "       0, 0, 9, 0, 0, 4, 0, 0])"
      ]
     },
     "execution_count": 20,
     "metadata": {},
     "output_type": "execute_result"
    }
   ],
   "source": [
    "crr.flatten()"
   ]
  }
 ],
 "metadata": {
  "kernelspec": {
   "display_name": "Python 3",
   "language": "python",
   "name": "python3"
  },
  "language_info": {
   "codemirror_mode": {
    "name": "ipython",
    "version": 3
   },
   "file_extension": ".py",
   "mimetype": "text/x-python",
   "name": "python",
   "nbconvert_exporter": "python",
   "pygments_lexer": "ipython3",
   "version": "3.6.8"
  }
 },
 "nbformat": 4,
 "nbformat_minor": 5
}
